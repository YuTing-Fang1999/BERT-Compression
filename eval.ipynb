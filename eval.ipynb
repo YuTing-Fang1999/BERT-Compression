{
 "cells": [
  {
   "cell_type": "code",
   "execution_count": 2,
   "metadata": {},
   "outputs": [],
   "source": [
    "import pandas as pd"
   ]
  },
  {
   "cell_type": "code",
   "execution_count": 18,
   "metadata": {},
   "outputs": [],
   "source": [
    "def getTable(dir_name):\n",
    "  table={}\n",
    "  table[\"name\"] = []\n",
    "  table[\"Bleu_1\"] = []\n",
    "  table[\"Bleu_2\"] = []\n",
    "  table[\"Bleu_3\"] = []\n",
    "  table[\"Bleu_4\"] = []\n",
    "  table[\"METEOR\"] = []\n",
    "  table[\"ROUGE_L\"] = []\n",
    "  table[\"avg_score\"] = []\n",
    "  \n",
    "  table[\"evalTime\"] = []\n",
    "  \n",
    "  with open(\"{}/scores.txt\".format(dir_name)) as f:\n",
    "    table[\"name\"].append(dir_name)\n",
    "    line = f.readline()\n",
    "    score = 0\n",
    "    while line:\n",
    "      x = line.strip().split(':')\n",
    "  #       print(x)\n",
    "      table[x[0]].append(float(x[1]))\n",
    "      score += float(x[1])\n",
    "      line = f.readline()\n",
    "    print(score/6)\n",
    "    table[\"avg_score\"].append(score/6)\n",
    "  with open(\"{}/evalTime.txt\".format(dir_name)) as f:\n",
    "    table[\"evalTime\"].append(round(float(f.readline()),8))\n",
    "\n",
    "    return pd.DataFrame(table)"
   ]
  },
  {
   "cell_type": "markdown",
   "metadata": {},
   "source": [
    "# distill"
   ]
  },
  {
   "cell_type": "markdown",
   "metadata": {},
   "source": [
    "# betterBlue"
   ]
  },
  {
   "cell_type": "code",
   "execution_count": 26,
   "metadata": {
    "scrolled": true
   },
   "outputs": [
    {
     "name": "stdout",
     "output_type": "stream",
     "text": [
      "0.09597166666666666\n"
     ]
    },
    {
     "data": {
      "text/plain": [
       "Index(['name', 'Bleu_1', 'Bleu_2', 'Bleu_3', 'Bleu_4', 'METEOR', 'ROUGE_L',\n",
       "       'avg_score', 'evalTime'],\n",
       "      dtype='object')"
      ]
     },
     "execution_count": 26,
     "metadata": {},
     "output_type": "execute_result"
    }
   ],
   "source": [
    "getTable(\"../betterBlue/dis_half_data/epoch-4/\").columns"
   ]
  },
  {
   "cell_type": "code",
   "execution_count": 25,
   "metadata": {
    "scrolled": false
   },
   "outputs": [
    {
     "name": "stdout",
     "output_type": "stream",
     "text": [
      "0.13758166666666669\n"
     ]
    },
    {
     "data": {
      "text/html": [
       "<div>\n",
       "<style scoped>\n",
       "    .dataframe tbody tr th:only-of-type {\n",
       "        vertical-align: middle;\n",
       "    }\n",
       "\n",
       "    .dataframe tbody tr th {\n",
       "        vertical-align: top;\n",
       "    }\n",
       "\n",
       "    .dataframe thead th {\n",
       "        text-align: right;\n",
       "    }\n",
       "</style>\n",
       "<table border=\"1\" class=\"dataframe\">\n",
       "  <thead>\n",
       "    <tr style=\"text-align: right;\">\n",
       "      <th></th>\n",
       "      <th>name</th>\n",
       "      <th>Bleu_1</th>\n",
       "      <th>Bleu_2</th>\n",
       "      <th>Bleu_3</th>\n",
       "      <th>Bleu_4</th>\n",
       "      <th>METEOR</th>\n",
       "      <th>ROUGE_L</th>\n",
       "      <th>avg_score</th>\n",
       "      <th>evalTime</th>\n",
       "    </tr>\n",
       "  </thead>\n",
       "  <tbody>\n",
       "    <tr>\n",
       "      <th>0</th>\n",
       "      <td>../betterBlue/distillThree/epoch-4/</td>\n",
       "      <td>0.23194</td>\n",
       "      <td>0.13996</td>\n",
       "      <td>0.08781</td>\n",
       "      <td>0.05524</td>\n",
       "      <td>0.10456</td>\n",
       "      <td>0.20598</td>\n",
       "      <td>0.137582</td>\n",
       "      <td>3716.829564</td>\n",
       "    </tr>\n",
       "  </tbody>\n",
       "</table>\n",
       "</div>"
      ],
      "text/plain": [
       "                                  name   Bleu_1   Bleu_2   Bleu_3   Bleu_4  \\\n",
       "0  ../betterBlue/distillThree/epoch-4/  0.23194  0.13996  0.08781  0.05524   \n",
       "\n",
       "    METEOR  ROUGE_L  avg_score     evalTime  \n",
       "0  0.10456  0.20598   0.137582  3716.829564  "
      ]
     },
     "execution_count": 25,
     "metadata": {},
     "output_type": "execute_result"
    }
   ],
   "source": [
    "getTable(\"../betterBlue/distillThree/epoch-4/\")"
   ]
  },
  {
   "cell_type": "markdown",
   "metadata": {},
   "source": [
    "# betterBlue2"
   ]
  },
  {
   "cell_type": "code",
   "execution_count": 28,
   "metadata": {
    "scrolled": false
   },
   "outputs": [
    {
     "name": "stdout",
     "output_type": "stream",
     "text": [
      "0.19173166666666666\n"
     ]
    },
    {
     "data": {
      "text/html": [
       "<div>\n",
       "<style scoped>\n",
       "    .dataframe tbody tr th:only-of-type {\n",
       "        vertical-align: middle;\n",
       "    }\n",
       "\n",
       "    .dataframe tbody tr th {\n",
       "        vertical-align: top;\n",
       "    }\n",
       "\n",
       "    .dataframe thead th {\n",
       "        text-align: right;\n",
       "    }\n",
       "</style>\n",
       "<table border=\"1\" class=\"dataframe\">\n",
       "  <thead>\n",
       "    <tr style=\"text-align: right;\">\n",
       "      <th></th>\n",
       "      <th>name</th>\n",
       "      <th>Bleu_1</th>\n",
       "      <th>Bleu_2</th>\n",
       "      <th>Bleu_3</th>\n",
       "      <th>Bleu_4</th>\n",
       "      <th>METEOR</th>\n",
       "      <th>ROUGE_L</th>\n",
       "      <th>avg_score</th>\n",
       "      <th>evalTime</th>\n",
       "    </tr>\n",
       "  </thead>\n",
       "  <tbody>\n",
       "    <tr>\n",
       "      <th>0</th>\n",
       "      <td>../betterBlue2/Three_train/epoch-4/</td>\n",
       "      <td>0.28081</td>\n",
       "      <td>0.19397</td>\n",
       "      <td>0.14443</td>\n",
       "      <td>0.11019</td>\n",
       "      <td>0.13234</td>\n",
       "      <td>0.28865</td>\n",
       "      <td>0.191732</td>\n",
       "      <td>1855.50649</td>\n",
       "    </tr>\n",
       "  </tbody>\n",
       "</table>\n",
       "</div>"
      ],
      "text/plain": [
       "                                  name   Bleu_1   Bleu_2   Bleu_3   Bleu_4  \\\n",
       "0  ../betterBlue2/Three_train/epoch-4/  0.28081  0.19397  0.14443  0.11019   \n",
       "\n",
       "    METEOR  ROUGE_L  avg_score    evalTime  \n",
       "0  0.13234  0.28865   0.191732  1855.50649  "
      ]
     },
     "execution_count": 28,
     "metadata": {},
     "output_type": "execute_result"
    }
   ],
   "source": [
    "getTable(\"../betterBlue2/Three_train/epoch-4/\")"
   ]
  },
  {
   "cell_type": "code",
   "execution_count": 30,
   "metadata": {
    "scrolled": false
   },
   "outputs": [
    {
     "name": "stdout",
     "output_type": "stream",
     "text": [
      "0.19832833333333336\n"
     ]
    },
    {
     "data": {
      "text/html": [
       "<div>\n",
       "<style scoped>\n",
       "    .dataframe tbody tr th:only-of-type {\n",
       "        vertical-align: middle;\n",
       "    }\n",
       "\n",
       "    .dataframe tbody tr th {\n",
       "        vertical-align: top;\n",
       "    }\n",
       "\n",
       "    .dataframe thead th {\n",
       "        text-align: right;\n",
       "    }\n",
       "</style>\n",
       "<table border=\"1\" class=\"dataframe\">\n",
       "  <thead>\n",
       "    <tr style=\"text-align: right;\">\n",
       "      <th></th>\n",
       "      <th>name</th>\n",
       "      <th>Bleu_1</th>\n",
       "      <th>Bleu_2</th>\n",
       "      <th>Bleu_3</th>\n",
       "      <th>Bleu_4</th>\n",
       "      <th>METEOR</th>\n",
       "      <th>ROUGE_L</th>\n",
       "      <th>avg_score</th>\n",
       "      <th>evalTime</th>\n",
       "    </tr>\n",
       "  </thead>\n",
       "  <tbody>\n",
       "    <tr>\n",
       "      <th>0</th>\n",
       "      <td>../betterBlue2/Three_distill_train/epoch-4/</td>\n",
       "      <td>0.29279</td>\n",
       "      <td>0.20236</td>\n",
       "      <td>0.15097</td>\n",
       "      <td>0.11538</td>\n",
       "      <td>0.13644</td>\n",
       "      <td>0.29203</td>\n",
       "      <td>0.198328</td>\n",
       "      <td>1950.403002</td>\n",
       "    </tr>\n",
       "  </tbody>\n",
       "</table>\n",
       "</div>"
      ],
      "text/plain": [
       "                                          name   Bleu_1   Bleu_2   Bleu_3  \\\n",
       "0  ../betterBlue2/Three_distill_train/epoch-4/  0.29279  0.20236  0.15097   \n",
       "\n",
       "    Bleu_4   METEOR  ROUGE_L  avg_score     evalTime  \n",
       "0  0.11538  0.13644  0.29203   0.198328  1950.403002  "
      ]
     },
     "execution_count": 30,
     "metadata": {},
     "output_type": "execute_result"
    }
   ],
   "source": [
    "getTable(\"../betterBlue2/Three_distill_train/epoch-4/\")"
   ]
  },
  {
   "cell_type": "code",
   "execution_count": 32,
   "metadata": {
    "scrolled": false
   },
   "outputs": [
    {
     "name": "stdout",
     "output_type": "stream",
     "text": [
      "0.24967833333333336\n"
     ]
    },
    {
     "data": {
      "text/html": [
       "<div>\n",
       "<style scoped>\n",
       "    .dataframe tbody tr th:only-of-type {\n",
       "        vertical-align: middle;\n",
       "    }\n",
       "\n",
       "    .dataframe tbody tr th {\n",
       "        vertical-align: top;\n",
       "    }\n",
       "\n",
       "    .dataframe thead th {\n",
       "        text-align: right;\n",
       "    }\n",
       "</style>\n",
       "<table border=\"1\" class=\"dataframe\">\n",
       "  <thead>\n",
       "    <tr style=\"text-align: right;\">\n",
       "      <th></th>\n",
       "      <th>name</th>\n",
       "      <th>Bleu_1</th>\n",
       "      <th>Bleu_2</th>\n",
       "      <th>Bleu_3</th>\n",
       "      <th>Bleu_4</th>\n",
       "      <th>METEOR</th>\n",
       "      <th>ROUGE_L</th>\n",
       "      <th>avg_score</th>\n",
       "      <th>evalTime</th>\n",
       "    </tr>\n",
       "  </thead>\n",
       "  <tbody>\n",
       "    <tr>\n",
       "      <th>0</th>\n",
       "      <td>../betterBlue2/SixLayer_distill/epoch-4/</td>\n",
       "      <td>0.35402</td>\n",
       "      <td>0.26611</td>\n",
       "      <td>0.20723</td>\n",
       "      <td>0.16528</td>\n",
       "      <td>0.17756</td>\n",
       "      <td>0.32787</td>\n",
       "      <td>0.249678</td>\n",
       "      <td>6402.046689</td>\n",
       "    </tr>\n",
       "  </tbody>\n",
       "</table>\n",
       "</div>"
      ],
      "text/plain": [
       "                                       name   Bleu_1   Bleu_2   Bleu_3  \\\n",
       "0  ../betterBlue2/SixLayer_distill/epoch-4/  0.35402  0.26611  0.20723   \n",
       "\n",
       "    Bleu_4   METEOR  ROUGE_L  avg_score     evalTime  \n",
       "0  0.16528  0.17756  0.32787   0.249678  6402.046689  "
      ]
     },
     "execution_count": 32,
     "metadata": {},
     "output_type": "execute_result"
    }
   ],
   "source": [
    "getTable(\"../betterBlue2/SixLayer_distill/epoch-4/\")"
   ]
  },
  {
   "cell_type": "code",
   "execution_count": 31,
   "metadata": {
    "scrolled": false
   },
   "outputs": [
    {
     "name": "stdout",
     "output_type": "stream",
     "text": [
      "0.25038\n"
     ]
    },
    {
     "data": {
      "text/html": [
       "<div>\n",
       "<style scoped>\n",
       "    .dataframe tbody tr th:only-of-type {\n",
       "        vertical-align: middle;\n",
       "    }\n",
       "\n",
       "    .dataframe tbody tr th {\n",
       "        vertical-align: top;\n",
       "    }\n",
       "\n",
       "    .dataframe thead th {\n",
       "        text-align: right;\n",
       "    }\n",
       "</style>\n",
       "<table border=\"1\" class=\"dataframe\">\n",
       "  <thead>\n",
       "    <tr style=\"text-align: right;\">\n",
       "      <th></th>\n",
       "      <th>name</th>\n",
       "      <th>Bleu_1</th>\n",
       "      <th>Bleu_2</th>\n",
       "      <th>Bleu_3</th>\n",
       "      <th>Bleu_4</th>\n",
       "      <th>METEOR</th>\n",
       "      <th>ROUGE_L</th>\n",
       "      <th>avg_score</th>\n",
       "      <th>evalTime</th>\n",
       "    </tr>\n",
       "  </thead>\n",
       "  <tbody>\n",
       "    <tr>\n",
       "      <th>0</th>\n",
       "      <td>../betterBlue2/SixLayer_distill2/epoch-4/</td>\n",
       "      <td>0.35658</td>\n",
       "      <td>0.26721</td>\n",
       "      <td>0.20791</td>\n",
       "      <td>0.16579</td>\n",
       "      <td>0.17803</td>\n",
       "      <td>0.32676</td>\n",
       "      <td>0.25038</td>\n",
       "      <td>6456.259298</td>\n",
       "    </tr>\n",
       "  </tbody>\n",
       "</table>\n",
       "</div>"
      ],
      "text/plain": [
       "                                        name   Bleu_1   Bleu_2   Bleu_3  \\\n",
       "0  ../betterBlue2/SixLayer_distill2/epoch-4/  0.35658  0.26721  0.20791   \n",
       "\n",
       "    Bleu_4   METEOR  ROUGE_L  avg_score     evalTime  \n",
       "0  0.16579  0.17803  0.32676    0.25038  6456.259298  "
      ]
     },
     "execution_count": 31,
     "metadata": {},
     "output_type": "execute_result"
    }
   ],
   "source": [
    "getTable(\"../betterBlue2/SixLayer_distill2/epoch-4/\")"
   ]
  },
  {
   "cell_type": "code",
   "execution_count": 33,
   "metadata": {
    "scrolled": true
   },
   "outputs": [
    {
     "name": "stdout",
     "output_type": "stream",
     "text": [
      "0.24691333333333332\n"
     ]
    },
    {
     "data": {
      "text/html": [
       "<div>\n",
       "<style scoped>\n",
       "    .dataframe tbody tr th:only-of-type {\n",
       "        vertical-align: middle;\n",
       "    }\n",
       "\n",
       "    .dataframe tbody tr th {\n",
       "        vertical-align: top;\n",
       "    }\n",
       "\n",
       "    .dataframe thead th {\n",
       "        text-align: right;\n",
       "    }\n",
       "</style>\n",
       "<table border=\"1\" class=\"dataframe\">\n",
       "  <thead>\n",
       "    <tr style=\"text-align: right;\">\n",
       "      <th></th>\n",
       "      <th>name</th>\n",
       "      <th>Bleu_1</th>\n",
       "      <th>Bleu_2</th>\n",
       "      <th>Bleu_3</th>\n",
       "      <th>Bleu_4</th>\n",
       "      <th>METEOR</th>\n",
       "      <th>ROUGE_L</th>\n",
       "      <th>avg_score</th>\n",
       "      <th>evalTime</th>\n",
       "    </tr>\n",
       "  </thead>\n",
       "  <tbody>\n",
       "    <tr>\n",
       "      <th>0</th>\n",
       "      <td>../betterBlue2/SixLayer_distill3/epoch-4/</td>\n",
       "      <td>0.35119</td>\n",
       "      <td>0.26299</td>\n",
       "      <td>0.20425</td>\n",
       "      <td>0.16255</td>\n",
       "      <td>0.17598</td>\n",
       "      <td>0.32452</td>\n",
       "      <td>0.246913</td>\n",
       "      <td>17334.96256</td>\n",
       "    </tr>\n",
       "  </tbody>\n",
       "</table>\n",
       "</div>"
      ],
      "text/plain": [
       "                                        name   Bleu_1   Bleu_2   Bleu_3  \\\n",
       "0  ../betterBlue2/SixLayer_distill3/epoch-4/  0.35119  0.26299  0.20425   \n",
       "\n",
       "    Bleu_4   METEOR  ROUGE_L  avg_score     evalTime  \n",
       "0  0.16255  0.17598  0.32452   0.246913  17334.96256  "
      ]
     },
     "execution_count": 33,
     "metadata": {},
     "output_type": "execute_result"
    }
   ],
   "source": [
    "getTable(\"../betterBlue2/SixLayer_distill3/epoch-4/\")"
   ]
  },
  {
   "cell_type": "code",
   "execution_count": 34,
   "metadata": {
    "scrolled": true
   },
   "outputs": [
    {
     "name": "stdout",
     "output_type": "stream",
     "text": [
      "0.26513166666666665\n"
     ]
    },
    {
     "data": {
      "text/html": [
       "<div>\n",
       "<style scoped>\n",
       "    .dataframe tbody tr th:only-of-type {\n",
       "        vertical-align: middle;\n",
       "    }\n",
       "\n",
       "    .dataframe tbody tr th {\n",
       "        vertical-align: top;\n",
       "    }\n",
       "\n",
       "    .dataframe thead th {\n",
       "        text-align: right;\n",
       "    }\n",
       "</style>\n",
       "<table border=\"1\" class=\"dataframe\">\n",
       "  <thead>\n",
       "    <tr style=\"text-align: right;\">\n",
       "      <th></th>\n",
       "      <th>name</th>\n",
       "      <th>Bleu_1</th>\n",
       "      <th>Bleu_2</th>\n",
       "      <th>Bleu_3</th>\n",
       "      <th>Bleu_4</th>\n",
       "      <th>METEOR</th>\n",
       "      <th>ROUGE_L</th>\n",
       "      <th>avg_score</th>\n",
       "      <th>evalTime</th>\n",
       "    </tr>\n",
       "  </thead>\n",
       "  <tbody>\n",
       "    <tr>\n",
       "      <th>0</th>\n",
       "      <td>../betterBlue2/SixLayer_distill2_train/epoch-4/</td>\n",
       "      <td>0.3704</td>\n",
       "      <td>0.28302</td>\n",
       "      <td>0.22465</td>\n",
       "      <td>0.18324</td>\n",
       "      <td>0.18627</td>\n",
       "      <td>0.34321</td>\n",
       "      <td>0.265132</td>\n",
       "      <td>6709.302197</td>\n",
       "    </tr>\n",
       "  </tbody>\n",
       "</table>\n",
       "</div>"
      ],
      "text/plain": [
       "                                              name  Bleu_1   Bleu_2   Bleu_3  \\\n",
       "0  ../betterBlue2/SixLayer_distill2_train/epoch-4/  0.3704  0.28302  0.22465   \n",
       "\n",
       "    Bleu_4   METEOR  ROUGE_L  avg_score     evalTime  \n",
       "0  0.18324  0.18627  0.34321   0.265132  6709.302197  "
      ]
     },
     "execution_count": 34,
     "metadata": {},
     "output_type": "execute_result"
    }
   ],
   "source": [
    "getTable(\"../betterBlue2/SixLayer_distill2_train/epoch-4/\")"
   ]
  },
  {
   "cell_type": "code",
   "execution_count": 35,
   "metadata": {
    "scrolled": false
   },
   "outputs": [
    {
     "name": "stdout",
     "output_type": "stream",
     "text": [
      "0.32660333333333336\n"
     ]
    },
    {
     "data": {
      "text/html": [
       "<div>\n",
       "<style scoped>\n",
       "    .dataframe tbody tr th:only-of-type {\n",
       "        vertical-align: middle;\n",
       "    }\n",
       "\n",
       "    .dataframe tbody tr th {\n",
       "        vertical-align: top;\n",
       "    }\n",
       "\n",
       "    .dataframe thead th {\n",
       "        text-align: right;\n",
       "    }\n",
       "</style>\n",
       "<table border=\"1\" class=\"dataframe\">\n",
       "  <thead>\n",
       "    <tr style=\"text-align: right;\">\n",
       "      <th></th>\n",
       "      <th>name</th>\n",
       "      <th>Bleu_1</th>\n",
       "      <th>Bleu_2</th>\n",
       "      <th>Bleu_3</th>\n",
       "      <th>Bleu_4</th>\n",
       "      <th>METEOR</th>\n",
       "      <th>ROUGE_L</th>\n",
       "      <th>avg_score</th>\n",
       "      <th>evalTime</th>\n",
       "    </tr>\n",
       "  </thead>\n",
       "  <tbody>\n",
       "    <tr>\n",
       "      <th>0</th>\n",
       "      <td>../betterBlue2/SixLayer_distill2_train2/epoch-4/</td>\n",
       "      <td>0.44096</td>\n",
       "      <td>0.34903</td>\n",
       "      <td>0.28844</td>\n",
       "      <td>0.24356</td>\n",
       "      <td>0.21926</td>\n",
       "      <td>0.41837</td>\n",
       "      <td>0.326603</td>\n",
       "      <td>3311.453704</td>\n",
       "    </tr>\n",
       "  </tbody>\n",
       "</table>\n",
       "</div>"
      ],
      "text/plain": [
       "                                               name   Bleu_1   Bleu_2  \\\n",
       "0  ../betterBlue2/SixLayer_distill2_train2/epoch-4/  0.44096  0.34903   \n",
       "\n",
       "    Bleu_3   Bleu_4   METEOR  ROUGE_L  avg_score     evalTime  \n",
       "0  0.28844  0.24356  0.21926  0.41837   0.326603  3311.453704  "
      ]
     },
     "execution_count": 35,
     "metadata": {},
     "output_type": "execute_result"
    }
   ],
   "source": [
    "getTable(\"../betterBlue2/SixLayer_distill2_train2/epoch-4/\")"
   ]
  },
  {
   "cell_type": "code",
   "execution_count": 37,
   "metadata": {
    "scrolled": false
   },
   "outputs": [
    {
     "name": "stdout",
     "output_type": "stream",
     "text": [
      "0.33330166666666666\n"
     ]
    },
    {
     "data": {
      "text/html": [
       "<div>\n",
       "<style scoped>\n",
       "    .dataframe tbody tr th:only-of-type {\n",
       "        vertical-align: middle;\n",
       "    }\n",
       "\n",
       "    .dataframe tbody tr th {\n",
       "        vertical-align: top;\n",
       "    }\n",
       "\n",
       "    .dataframe thead th {\n",
       "        text-align: right;\n",
       "    }\n",
       "</style>\n",
       "<table border=\"1\" class=\"dataframe\">\n",
       "  <thead>\n",
       "    <tr style=\"text-align: right;\">\n",
       "      <th></th>\n",
       "      <th>name</th>\n",
       "      <th>Bleu_1</th>\n",
       "      <th>Bleu_2</th>\n",
       "      <th>Bleu_3</th>\n",
       "      <th>Bleu_4</th>\n",
       "      <th>METEOR</th>\n",
       "      <th>ROUGE_L</th>\n",
       "      <th>avg_score</th>\n",
       "      <th>evalTime</th>\n",
       "    </tr>\n",
       "  </thead>\n",
       "  <tbody>\n",
       "    <tr>\n",
       "      <th>0</th>\n",
       "      <td>../betterBlue2/SixLayer_distill2_train3/epoch-4/</td>\n",
       "      <td>0.45214</td>\n",
       "      <td>0.35846</td>\n",
       "      <td>0.29675</td>\n",
       "      <td>0.25088</td>\n",
       "      <td>0.2233</td>\n",
       "      <td>0.41828</td>\n",
       "      <td>0.333302</td>\n",
       "      <td>3419.028776</td>\n",
       "    </tr>\n",
       "  </tbody>\n",
       "</table>\n",
       "</div>"
      ],
      "text/plain": [
       "                                               name   Bleu_1   Bleu_2  \\\n",
       "0  ../betterBlue2/SixLayer_distill2_train3/epoch-4/  0.45214  0.35846   \n",
       "\n",
       "    Bleu_3   Bleu_4  METEOR  ROUGE_L  avg_score     evalTime  \n",
       "0  0.29675  0.25088  0.2233  0.41828   0.333302  3419.028776  "
      ]
     },
     "execution_count": 37,
     "metadata": {},
     "output_type": "execute_result"
    }
   ],
   "source": [
    "getTable(\"../betterBlue2/SixLayer_distill2_train3/epoch-4/\")"
   ]
  },
  {
   "cell_type": "code",
   "execution_count": 36,
   "metadata": {},
   "outputs": [
    {
     "name": "stdout",
     "output_type": "stream",
     "text": [
      "0.3195666666666667\n"
     ]
    },
    {
     "data": {
      "text/html": [
       "<div>\n",
       "<style scoped>\n",
       "    .dataframe tbody tr th:only-of-type {\n",
       "        vertical-align: middle;\n",
       "    }\n",
       "\n",
       "    .dataframe tbody tr th {\n",
       "        vertical-align: top;\n",
       "    }\n",
       "\n",
       "    .dataframe thead th {\n",
       "        text-align: right;\n",
       "    }\n",
       "</style>\n",
       "<table border=\"1\" class=\"dataframe\">\n",
       "  <thead>\n",
       "    <tr style=\"text-align: right;\">\n",
       "      <th></th>\n",
       "      <th>name</th>\n",
       "      <th>Bleu_1</th>\n",
       "      <th>Bleu_2</th>\n",
       "      <th>Bleu_3</th>\n",
       "      <th>Bleu_4</th>\n",
       "      <th>METEOR</th>\n",
       "      <th>ROUGE_L</th>\n",
       "      <th>avg_score</th>\n",
       "      <th>evalTime</th>\n",
       "    </tr>\n",
       "  </thead>\n",
       "  <tbody>\n",
       "    <tr>\n",
       "      <th>0</th>\n",
       "      <td>../betterBlue2/Six_train/epoch-4/</td>\n",
       "      <td>0.43459</td>\n",
       "      <td>0.34205</td>\n",
       "      <td>0.28154</td>\n",
       "      <td>0.23692</td>\n",
       "      <td>0.21427</td>\n",
       "      <td>0.40803</td>\n",
       "      <td>0.319567</td>\n",
       "      <td>6193.024373</td>\n",
       "    </tr>\n",
       "  </tbody>\n",
       "</table>\n",
       "</div>"
      ],
      "text/plain": [
       "                                name   Bleu_1   Bleu_2   Bleu_3   Bleu_4  \\\n",
       "0  ../betterBlue2/Six_train/epoch-4/  0.43459  0.34205  0.28154  0.23692   \n",
       "\n",
       "    METEOR  ROUGE_L  avg_score     evalTime  \n",
       "0  0.21427  0.40803   0.319567  6193.024373  "
      ]
     },
     "execution_count": 36,
     "metadata": {},
     "output_type": "execute_result"
    }
   ],
   "source": [
    "getTable(\"../betterBlue2/Six_train/epoch-4/\")"
   ]
  },
  {
   "cell_type": "code",
   "execution_count": 22,
   "metadata": {},
   "outputs": [
    {
     "name": "stdout",
     "output_type": "stream",
     "text": [
      "0.3401666666666667\n"
     ]
    },
    {
     "data": {
      "text/html": [
       "<div>\n",
       "<style scoped>\n",
       "    .dataframe tbody tr th:only-of-type {\n",
       "        vertical-align: middle;\n",
       "    }\n",
       "\n",
       "    .dataframe tbody tr th {\n",
       "        vertical-align: top;\n",
       "    }\n",
       "\n",
       "    .dataframe thead th {\n",
       "        text-align: right;\n",
       "    }\n",
       "</style>\n",
       "<table border=\"1\" class=\"dataframe\">\n",
       "  <thead>\n",
       "    <tr style=\"text-align: right;\">\n",
       "      <th></th>\n",
       "      <th>name</th>\n",
       "      <th>Bleu_1</th>\n",
       "      <th>Bleu_2</th>\n",
       "      <th>Bleu_3</th>\n",
       "      <th>Bleu_4</th>\n",
       "      <th>METEOR</th>\n",
       "      <th>ROUGE_L</th>\n",
       "      <th>avg_score</th>\n",
       "      <th>evalTime</th>\n",
       "    </tr>\n",
       "  </thead>\n",
       "  <tbody>\n",
       "    <tr>\n",
       "      <th>0</th>\n",
       "      <td>../betterBlue2/QG_distill/epoch-4/</td>\n",
       "      <td>0.45452</td>\n",
       "      <td>0.3645</td>\n",
       "      <td>0.30423</td>\n",
       "      <td>0.25919</td>\n",
       "      <td>0.22782</td>\n",
       "      <td>0.43074</td>\n",
       "      <td>0.340167</td>\n",
       "      <td>3313.010153</td>\n",
       "    </tr>\n",
       "  </tbody>\n",
       "</table>\n",
       "</div>"
      ],
      "text/plain": [
       "                                 name   Bleu_1  Bleu_2   Bleu_3   Bleu_4  \\\n",
       "0  ../betterBlue2/QG_distill/epoch-4/  0.45452  0.3645  0.30423  0.25919   \n",
       "\n",
       "    METEOR  ROUGE_L  avg_score     evalTime  \n",
       "0  0.22782  0.43074   0.340167  3313.010153  "
      ]
     },
     "execution_count": 22,
     "metadata": {},
     "output_type": "execute_result"
    }
   ],
   "source": [
    "getTable(\"../betterBlue2/QG_distill/epoch-4/\")"
   ]
  },
  {
   "cell_type": "code",
   "execution_count": 23,
   "metadata": {},
   "outputs": [
    {
     "name": "stdout",
     "output_type": "stream",
     "text": [
      "0.36675833333333335\n"
     ]
    },
    {
     "data": {
      "text/html": [
       "<div>\n",
       "<style scoped>\n",
       "    .dataframe tbody tr th:only-of-type {\n",
       "        vertical-align: middle;\n",
       "    }\n",
       "\n",
       "    .dataframe tbody tr th {\n",
       "        vertical-align: top;\n",
       "    }\n",
       "\n",
       "    .dataframe thead th {\n",
       "        text-align: right;\n",
       "    }\n",
       "</style>\n",
       "<table border=\"1\" class=\"dataframe\">\n",
       "  <thead>\n",
       "    <tr style=\"text-align: right;\">\n",
       "      <th></th>\n",
       "      <th>name</th>\n",
       "      <th>Bleu_1</th>\n",
       "      <th>Bleu_2</th>\n",
       "      <th>Bleu_3</th>\n",
       "      <th>Bleu_4</th>\n",
       "      <th>METEOR</th>\n",
       "      <th>ROUGE_L</th>\n",
       "      <th>avg_score</th>\n",
       "      <th>evalTime</th>\n",
       "    </tr>\n",
       "  </thead>\n",
       "  <tbody>\n",
       "    <tr>\n",
       "      <th>0</th>\n",
       "      <td>../betterBlue2/QG_model/</td>\n",
       "      <td>0.48689</td>\n",
       "      <td>0.39655</td>\n",
       "      <td>0.33515</td>\n",
       "      <td>0.2883</td>\n",
       "      <td>0.24388</td>\n",
       "      <td>0.44978</td>\n",
       "      <td>0.366758</td>\n",
       "      <td>5993.456949</td>\n",
       "    </tr>\n",
       "  </tbody>\n",
       "</table>\n",
       "</div>"
      ],
      "text/plain": [
       "                       name   Bleu_1   Bleu_2   Bleu_3  Bleu_4   METEOR  \\\n",
       "0  ../betterBlue2/QG_model/  0.48689  0.39655  0.33515  0.2883  0.24388   \n",
       "\n",
       "   ROUGE_L  avg_score     evalTime  \n",
       "0  0.44978   0.366758  5993.456949  "
      ]
     },
     "execution_count": 23,
     "metadata": {},
     "output_type": "execute_result"
    }
   ],
   "source": [
    "getTable(\"../betterBlue2/QG_model/\")"
   ]
  },
  {
   "cell_type": "code",
   "execution_count": 63,
   "metadata": {},
   "outputs": [
    {
     "name": "stdout",
     "output_type": "stream",
     "text": [
      "0.284915\n"
     ]
    },
    {
     "data": {
      "text/html": [
       "<div>\n",
       "<style scoped>\n",
       "    .dataframe tbody tr th:only-of-type {\n",
       "        vertical-align: middle;\n",
       "    }\n",
       "\n",
       "    .dataframe tbody tr th {\n",
       "        vertical-align: top;\n",
       "    }\n",
       "\n",
       "    .dataframe thead th {\n",
       "        text-align: right;\n",
       "    }\n",
       "</style>\n",
       "<table border=\"1\" class=\"dataframe\">\n",
       "  <thead>\n",
       "    <tr style=\"text-align: right;\">\n",
       "      <th></th>\n",
       "      <th>name</th>\n",
       "      <th>Bleu_1</th>\n",
       "      <th>Bleu_2</th>\n",
       "      <th>Bleu_3</th>\n",
       "      <th>Bleu_4</th>\n",
       "      <th>METEOR</th>\n",
       "      <th>ROUGE_L</th>\n",
       "      <th>avg_score</th>\n",
       "      <th>evalTime</th>\n",
       "    </tr>\n",
       "  </thead>\n",
       "  <tbody>\n",
       "    <tr>\n",
       "      <th>0</th>\n",
       "      <td>../betterBlue2/BadTeacher/epoch-4</td>\n",
       "      <td>0.39194</td>\n",
       "      <td>0.30504</td>\n",
       "      <td>0.24599</td>\n",
       "      <td>0.20377</td>\n",
       "      <td>0.19905</td>\n",
       "      <td>0.3637</td>\n",
       "      <td>0.284915</td>\n",
       "      <td>5754.486864</td>\n",
       "    </tr>\n",
       "  </tbody>\n",
       "</table>\n",
       "</div>"
      ],
      "text/plain": [
       "                                name   Bleu_1   Bleu_2   Bleu_3   Bleu_4  \\\n",
       "0  ../betterBlue2/BadTeacher/epoch-4  0.39194  0.30504  0.24599  0.20377   \n",
       "\n",
       "    METEOR  ROUGE_L  avg_score     evalTime  \n",
       "0  0.19905   0.3637   0.284915  5754.486864  "
      ]
     },
     "execution_count": 63,
     "metadata": {},
     "output_type": "execute_result"
    }
   ],
   "source": [
    "getTable(\"../betterBlue2/BadTeacher/epoch-4\")"
   ]
  },
  {
   "cell_type": "code",
   "execution_count": 47,
   "metadata": {},
   "outputs": [
    {
     "name": "stdout",
     "output_type": "stream",
     "text": [
      "0.3215516666666666\n"
     ]
    },
    {
     "data": {
      "text/html": [
       "<div>\n",
       "<style scoped>\n",
       "    .dataframe tbody tr th:only-of-type {\n",
       "        vertical-align: middle;\n",
       "    }\n",
       "\n",
       "    .dataframe tbody tr th {\n",
       "        vertical-align: top;\n",
       "    }\n",
       "\n",
       "    .dataframe thead th {\n",
       "        text-align: right;\n",
       "    }\n",
       "</style>\n",
       "<table border=\"1\" class=\"dataframe\">\n",
       "  <thead>\n",
       "    <tr style=\"text-align: right;\">\n",
       "      <th></th>\n",
       "      <th>name</th>\n",
       "      <th>Bleu_1</th>\n",
       "      <th>Bleu_2</th>\n",
       "      <th>Bleu_3</th>\n",
       "      <th>Bleu_4</th>\n",
       "      <th>METEOR</th>\n",
       "      <th>ROUGE_L</th>\n",
       "      <th>avg_score</th>\n",
       "      <th>evalTime</th>\n",
       "    </tr>\n",
       "  </thead>\n",
       "  <tbody>\n",
       "    <tr>\n",
       "      <th>0</th>\n",
       "      <td>../distill/HalfModel_a1/epoch-4</td>\n",
       "      <td>0.43514</td>\n",
       "      <td>0.34301</td>\n",
       "      <td>0.28231</td>\n",
       "      <td>0.23698</td>\n",
       "      <td>0.21644</td>\n",
       "      <td>0.41543</td>\n",
       "      <td>0.321552</td>\n",
       "      <td>18616.913703</td>\n",
       "    </tr>\n",
       "  </tbody>\n",
       "</table>\n",
       "</div>"
      ],
      "text/plain": [
       "                              name   Bleu_1   Bleu_2   Bleu_3   Bleu_4  \\\n",
       "0  ../distill/HalfModel_a1/epoch-4  0.43514  0.34301  0.28231  0.23698   \n",
       "\n",
       "    METEOR  ROUGE_L  avg_score      evalTime  \n",
       "0  0.21644  0.41543   0.321552  18616.913703  "
      ]
     },
     "execution_count": 47,
     "metadata": {},
     "output_type": "execute_result"
    }
   ],
   "source": [
    "getTable(\"../distill/HalfModel_a1/epoch-4\")"
   ]
  },
  {
   "cell_type": "markdown",
   "metadata": {},
   "source": [
    "# final"
   ]
  },
  {
   "cell_type": "code",
   "execution_count": 19,
   "metadata": {},
   "outputs": [
    {
     "name": "stdout",
     "output_type": "stream",
     "text": [
      "0.31970499999999996\n"
     ]
    },
    {
     "data": {
      "text/html": [
       "<div>\n",
       "<style scoped>\n",
       "    .dataframe tbody tr th:only-of-type {\n",
       "        vertical-align: middle;\n",
       "    }\n",
       "\n",
       "    .dataframe tbody tr th {\n",
       "        vertical-align: top;\n",
       "    }\n",
       "\n",
       "    .dataframe thead th {\n",
       "        text-align: right;\n",
       "    }\n",
       "</style>\n",
       "<table border=\"1\" class=\"dataframe\">\n",
       "  <thead>\n",
       "    <tr style=\"text-align: right;\">\n",
       "      <th></th>\n",
       "      <th>name</th>\n",
       "      <th>Bleu_1</th>\n",
       "      <th>Bleu_2</th>\n",
       "      <th>Bleu_3</th>\n",
       "      <th>Bleu_4</th>\n",
       "      <th>METEOR</th>\n",
       "      <th>ROUGE_L</th>\n",
       "      <th>avg_score</th>\n",
       "      <th>evalTime</th>\n",
       "    </tr>\n",
       "  </thead>\n",
       "  <tbody>\n",
       "    <tr>\n",
       "      <th>0</th>\n",
       "      <td>distilbert_DCRD/epoch-4/</td>\n",
       "      <td>0.43335</td>\n",
       "      <td>0.34165</td>\n",
       "      <td>0.28224</td>\n",
       "      <td>0.23834</td>\n",
       "      <td>0.21427</td>\n",
       "      <td>0.40838</td>\n",
       "      <td>0.319705</td>\n",
       "      <td>16927.706819</td>\n",
       "    </tr>\n",
       "  </tbody>\n",
       "</table>\n",
       "</div>"
      ],
      "text/plain": [
       "                       name   Bleu_1   Bleu_2   Bleu_3   Bleu_4   METEOR  \\\n",
       "0  distilbert_DCRD/epoch-4/  0.43335  0.34165  0.28224  0.23834  0.21427   \n",
       "\n",
       "   ROUGE_L  avg_score      evalTime  \n",
       "0  0.40838   0.319705  16927.706819  "
      ]
     },
     "execution_count": 19,
     "metadata": {},
     "output_type": "execute_result"
    }
   ],
   "source": [
    "getTable(\"distilbert_DCRD/epoch-4/\")"
   ]
  },
  {
   "cell_type": "code",
   "execution_count": 57,
   "metadata": {},
   "outputs": [
    {
     "name": "stdout",
     "output_type": "stream",
     "text": [
      "0.31350833333333333\n"
     ]
    },
    {
     "data": {
      "text/html": [
       "<div>\n",
       "<style scoped>\n",
       "    .dataframe tbody tr th:only-of-type {\n",
       "        vertical-align: middle;\n",
       "    }\n",
       "\n",
       "    .dataframe tbody tr th {\n",
       "        vertical-align: top;\n",
       "    }\n",
       "\n",
       "    .dataframe thead th {\n",
       "        text-align: right;\n",
       "    }\n",
       "</style>\n",
       "<table border=\"1\" class=\"dataframe\">\n",
       "  <thead>\n",
       "    <tr style=\"text-align: right;\">\n",
       "      <th></th>\n",
       "      <th>name</th>\n",
       "      <th>Bleu_1</th>\n",
       "      <th>Bleu_2</th>\n",
       "      <th>Bleu_3</th>\n",
       "      <th>Bleu_4</th>\n",
       "      <th>METEOR</th>\n",
       "      <th>ROUGE_L</th>\n",
       "      <th>avg_score</th>\n",
       "      <th>evalTime</th>\n",
       "    </tr>\n",
       "  </thead>\n",
       "  <tbody>\n",
       "    <tr>\n",
       "      <th>0</th>\n",
       "      <td>distilbert_DCRD2/epoch-4/</td>\n",
       "      <td>0.42691</td>\n",
       "      <td>0.33503</td>\n",
       "      <td>0.27497</td>\n",
       "      <td>0.23101</td>\n",
       "      <td>0.21051</td>\n",
       "      <td>0.40262</td>\n",
       "      <td>0.313508</td>\n",
       "      <td>5603.719657</td>\n",
       "    </tr>\n",
       "  </tbody>\n",
       "</table>\n",
       "</div>"
      ],
      "text/plain": [
       "                        name   Bleu_1   Bleu_2   Bleu_3   Bleu_4   METEOR  \\\n",
       "0  distilbert_DCRD2/epoch-4/  0.42691  0.33503  0.27497  0.23101  0.21051   \n",
       "\n",
       "   ROUGE_L  avg_score     evalTime  \n",
       "0  0.40262   0.313508  5603.719657  "
      ]
     },
     "execution_count": 57,
     "metadata": {},
     "output_type": "execute_result"
    }
   ],
   "source": [
    "getTable(\"distilbert_DCRD2/epoch-4/\")"
   ]
  },
  {
   "cell_type": "code",
   "execution_count": 20,
   "metadata": {},
   "outputs": [
    {
     "name": "stdout",
     "output_type": "stream",
     "text": [
      "0.30237833333333336\n"
     ]
    },
    {
     "data": {
      "text/html": [
       "<div>\n",
       "<style scoped>\n",
       "    .dataframe tbody tr th:only-of-type {\n",
       "        vertical-align: middle;\n",
       "    }\n",
       "\n",
       "    .dataframe tbody tr th {\n",
       "        vertical-align: top;\n",
       "    }\n",
       "\n",
       "    .dataframe thead th {\n",
       "        text-align: right;\n",
       "    }\n",
       "</style>\n",
       "<table border=\"1\" class=\"dataframe\">\n",
       "  <thead>\n",
       "    <tr style=\"text-align: right;\">\n",
       "      <th></th>\n",
       "      <th>name</th>\n",
       "      <th>Bleu_1</th>\n",
       "      <th>Bleu_2</th>\n",
       "      <th>Bleu_3</th>\n",
       "      <th>Bleu_4</th>\n",
       "      <th>METEOR</th>\n",
       "      <th>ROUGE_L</th>\n",
       "      <th>avg_score</th>\n",
       "      <th>evalTime</th>\n",
       "    </tr>\n",
       "  </thead>\n",
       "  <tbody>\n",
       "    <tr>\n",
       "      <th>0</th>\n",
       "      <td>distil_data_rate05-t1/epoch-4/</td>\n",
       "      <td>0.42092</td>\n",
       "      <td>0.32386</td>\n",
       "      <td>0.25962</td>\n",
       "      <td>0.21229</td>\n",
       "      <td>0.20483</td>\n",
       "      <td>0.39275</td>\n",
       "      <td>0.302378</td>\n",
       "      <td>15423.524577</td>\n",
       "    </tr>\n",
       "  </tbody>\n",
       "</table>\n",
       "</div>"
      ],
      "text/plain": [
       "                             name   Bleu_1   Bleu_2   Bleu_3   Bleu_4  \\\n",
       "0  distil_data_rate05-t1/epoch-4/  0.42092  0.32386  0.25962  0.21229   \n",
       "\n",
       "    METEOR  ROUGE_L  avg_score      evalTime  \n",
       "0  0.20483  0.39275   0.302378  15423.524577  "
      ]
     },
     "execution_count": 20,
     "metadata": {},
     "output_type": "execute_result"
    }
   ],
   "source": [
    "getTable(\"distil_data_rate05-t1/epoch-4/\")"
   ]
  },
  {
   "cell_type": "code",
   "execution_count": 45,
   "metadata": {},
   "outputs": [
    {
     "name": "stdout",
     "output_type": "stream",
     "text": [
      "0.29333833333333337\n"
     ]
    },
    {
     "data": {
      "text/html": [
       "<div>\n",
       "<style scoped>\n",
       "    .dataframe tbody tr th:only-of-type {\n",
       "        vertical-align: middle;\n",
       "    }\n",
       "\n",
       "    .dataframe tbody tr th {\n",
       "        vertical-align: top;\n",
       "    }\n",
       "\n",
       "    .dataframe thead th {\n",
       "        text-align: right;\n",
       "    }\n",
       "</style>\n",
       "<table border=\"1\" class=\"dataframe\">\n",
       "  <thead>\n",
       "    <tr style=\"text-align: right;\">\n",
       "      <th></th>\n",
       "      <th>name</th>\n",
       "      <th>Bleu_1</th>\n",
       "      <th>Bleu_2</th>\n",
       "      <th>Bleu_3</th>\n",
       "      <th>Bleu_4</th>\n",
       "      <th>METEOR</th>\n",
       "      <th>ROUGE_L</th>\n",
       "      <th>avg_score</th>\n",
       "      <th>evalTime</th>\n",
       "    </tr>\n",
       "  </thead>\n",
       "  <tbody>\n",
       "    <tr>\n",
       "      <th>0</th>\n",
       "      <td>train_data_rate05-t2/epoch-4/</td>\n",
       "      <td>0.39754</td>\n",
       "      <td>0.31379</td>\n",
       "      <td>0.25664</td>\n",
       "      <td>0.21548</td>\n",
       "      <td>0.203</td>\n",
       "      <td>0.37358</td>\n",
       "      <td>0.293338</td>\n",
       "      <td>15170.068724</td>\n",
       "    </tr>\n",
       "  </tbody>\n",
       "</table>\n",
       "</div>"
      ],
      "text/plain": [
       "                            name   Bleu_1   Bleu_2   Bleu_3   Bleu_4  METEOR  \\\n",
       "0  train_data_rate05-t2/epoch-4/  0.39754  0.31379  0.25664  0.21548   0.203   \n",
       "\n",
       "   ROUGE_L  avg_score      evalTime  \n",
       "0  0.37358   0.293338  15170.068724  "
      ]
     },
     "execution_count": 45,
     "metadata": {},
     "output_type": "execute_result"
    }
   ],
   "source": [
    "getTable(\"train_data_rate05-t2/epoch-4/\")"
   ]
  },
  {
   "cell_type": "code",
   "execution_count": 43,
   "metadata": {},
   "outputs": [
    {
     "name": "stdout",
     "output_type": "stream",
     "text": [
      "0.3135016666666667\n"
     ]
    },
    {
     "data": {
      "text/html": [
       "<div>\n",
       "<style scoped>\n",
       "    .dataframe tbody tr th:only-of-type {\n",
       "        vertical-align: middle;\n",
       "    }\n",
       "\n",
       "    .dataframe tbody tr th {\n",
       "        vertical-align: top;\n",
       "    }\n",
       "\n",
       "    .dataframe thead th {\n",
       "        text-align: right;\n",
       "    }\n",
       "</style>\n",
       "<table border=\"1\" class=\"dataframe\">\n",
       "  <thead>\n",
       "    <tr style=\"text-align: right;\">\n",
       "      <th></th>\n",
       "      <th>name</th>\n",
       "      <th>Bleu_1</th>\n",
       "      <th>Bleu_2</th>\n",
       "      <th>Bleu_3</th>\n",
       "      <th>Bleu_4</th>\n",
       "      <th>METEOR</th>\n",
       "      <th>ROUGE_L</th>\n",
       "      <th>avg_score</th>\n",
       "      <th>evalTime</th>\n",
       "    </tr>\n",
       "  </thead>\n",
       "  <tbody>\n",
       "    <tr>\n",
       "      <th>0</th>\n",
       "      <td>distil_data_rate1-t3-1/epoch-4/</td>\n",
       "      <td>0.43052</td>\n",
       "      <td>0.33699</td>\n",
       "      <td>0.27731</td>\n",
       "      <td>0.23345</td>\n",
       "      <td>0.20913</td>\n",
       "      <td>0.39361</td>\n",
       "      <td>0.313502</td>\n",
       "      <td>3690.237258</td>\n",
       "    </tr>\n",
       "  </tbody>\n",
       "</table>\n",
       "</div>"
      ],
      "text/plain": [
       "                              name   Bleu_1   Bleu_2   Bleu_3   Bleu_4  \\\n",
       "0  distil_data_rate1-t3-1/epoch-4/  0.43052  0.33699  0.27731  0.23345   \n",
       "\n",
       "    METEOR  ROUGE_L  avg_score     evalTime  \n",
       "0  0.20913  0.39361   0.313502  3690.237258  "
      ]
     },
     "execution_count": 43,
     "metadata": {},
     "output_type": "execute_result"
    }
   ],
   "source": [
    "getTable(\"distil_data_rate1-t3-1/epoch-4/\")"
   ]
  },
  {
   "cell_type": "code",
   "execution_count": 44,
   "metadata": {},
   "outputs": [
    {
     "name": "stdout",
     "output_type": "stream",
     "text": [
      "0.345875\n"
     ]
    },
    {
     "data": {
      "text/html": [
       "<div>\n",
       "<style scoped>\n",
       "    .dataframe tbody tr th:only-of-type {\n",
       "        vertical-align: middle;\n",
       "    }\n",
       "\n",
       "    .dataframe tbody tr th {\n",
       "        vertical-align: top;\n",
       "    }\n",
       "\n",
       "    .dataframe thead th {\n",
       "        text-align: right;\n",
       "    }\n",
       "</style>\n",
       "<table border=\"1\" class=\"dataframe\">\n",
       "  <thead>\n",
       "    <tr style=\"text-align: right;\">\n",
       "      <th></th>\n",
       "      <th>name</th>\n",
       "      <th>Bleu_1</th>\n",
       "      <th>Bleu_2</th>\n",
       "      <th>Bleu_3</th>\n",
       "      <th>Bleu_4</th>\n",
       "      <th>METEOR</th>\n",
       "      <th>ROUGE_L</th>\n",
       "      <th>avg_score</th>\n",
       "      <th>evalTime</th>\n",
       "    </tr>\n",
       "  </thead>\n",
       "  <tbody>\n",
       "    <tr>\n",
       "      <th>0</th>\n",
       "      <td>train_data_rate1-t3-2/epoch-4/</td>\n",
       "      <td>0.46386</td>\n",
       "      <td>0.37246</td>\n",
       "      <td>0.31095</td>\n",
       "      <td>0.26493</td>\n",
       "      <td>0.23149</td>\n",
       "      <td>0.43156</td>\n",
       "      <td>0.345875</td>\n",
       "      <td>6830.721479</td>\n",
       "    </tr>\n",
       "  </tbody>\n",
       "</table>\n",
       "</div>"
      ],
      "text/plain": [
       "                             name   Bleu_1   Bleu_2   Bleu_3   Bleu_4  \\\n",
       "0  train_data_rate1-t3-2/epoch-4/  0.46386  0.37246  0.31095  0.26493   \n",
       "\n",
       "    METEOR  ROUGE_L  avg_score     evalTime  \n",
       "0  0.23149  0.43156   0.345875  6830.721479  "
      ]
     },
     "execution_count": 44,
     "metadata": {},
     "output_type": "execute_result"
    }
   ],
   "source": [
    "getTable(\"train_data_rate1-t3-2/epoch-4/\")"
   ]
  },
  {
   "cell_type": "code",
   "execution_count": 55,
   "metadata": {
    "scrolled": true
   },
   "outputs": [
    {
     "name": "stdout",
     "output_type": "stream",
     "text": [
      "0.2967883333333334\n"
     ]
    },
    {
     "data": {
      "text/html": [
       "<div>\n",
       "<style scoped>\n",
       "    .dataframe tbody tr th:only-of-type {\n",
       "        vertical-align: middle;\n",
       "    }\n",
       "\n",
       "    .dataframe tbody tr th {\n",
       "        vertical-align: top;\n",
       "    }\n",
       "\n",
       "    .dataframe thead th {\n",
       "        text-align: right;\n",
       "    }\n",
       "</style>\n",
       "<table border=\"1\" class=\"dataframe\">\n",
       "  <thead>\n",
       "    <tr style=\"text-align: right;\">\n",
       "      <th></th>\n",
       "      <th>name</th>\n",
       "      <th>Bleu_1</th>\n",
       "      <th>Bleu_2</th>\n",
       "      <th>Bleu_3</th>\n",
       "      <th>Bleu_4</th>\n",
       "      <th>METEOR</th>\n",
       "      <th>ROUGE_L</th>\n",
       "      <th>avg_score</th>\n",
       "      <th>evalTime</th>\n",
       "    </tr>\n",
       "  </thead>\n",
       "  <tbody>\n",
       "    <tr>\n",
       "      <th>0</th>\n",
       "      <td>Six_drop03_train/epoch-4/</td>\n",
       "      <td>0.40658</td>\n",
       "      <td>0.31659</td>\n",
       "      <td>0.25962</td>\n",
       "      <td>0.21811</td>\n",
       "      <td>0.19806</td>\n",
       "      <td>0.38177</td>\n",
       "      <td>0.296788</td>\n",
       "      <td>3852.920137</td>\n",
       "    </tr>\n",
       "  </tbody>\n",
       "</table>\n",
       "</div>"
      ],
      "text/plain": [
       "                        name   Bleu_1   Bleu_2   Bleu_3   Bleu_4   METEOR  \\\n",
       "0  Six_drop03_train/epoch-4/  0.40658  0.31659  0.25962  0.21811  0.19806   \n",
       "\n",
       "   ROUGE_L  avg_score     evalTime  \n",
       "0  0.38177   0.296788  3852.920137  "
      ]
     },
     "execution_count": 55,
     "metadata": {},
     "output_type": "execute_result"
    }
   ],
   "source": [
    "getTable(\"Six_drop03_train/epoch-4/\")"
   ]
  },
  {
   "cell_type": "code",
   "execution_count": 56,
   "metadata": {
    "scrolled": true
   },
   "outputs": [
    {
     "name": "stdout",
     "output_type": "stream",
     "text": [
      "0.3097233333333333\n"
     ]
    },
    {
     "data": {
      "text/html": [
       "<div>\n",
       "<style scoped>\n",
       "    .dataframe tbody tr th:only-of-type {\n",
       "        vertical-align: middle;\n",
       "    }\n",
       "\n",
       "    .dataframe tbody tr th {\n",
       "        vertical-align: top;\n",
       "    }\n",
       "\n",
       "    .dataframe thead th {\n",
       "        text-align: right;\n",
       "    }\n",
       "</style>\n",
       "<table border=\"1\" class=\"dataframe\">\n",
       "  <thead>\n",
       "    <tr style=\"text-align: right;\">\n",
       "      <th></th>\n",
       "      <th>name</th>\n",
       "      <th>Bleu_1</th>\n",
       "      <th>Bleu_2</th>\n",
       "      <th>Bleu_3</th>\n",
       "      <th>Bleu_4</th>\n",
       "      <th>METEOR</th>\n",
       "      <th>ROUGE_L</th>\n",
       "      <th>avg_score</th>\n",
       "      <th>evalTime</th>\n",
       "    </tr>\n",
       "  </thead>\n",
       "  <tbody>\n",
       "    <tr>\n",
       "      <th>0</th>\n",
       "      <td>Six_drop03_train2/epoch-4/</td>\n",
       "      <td>0.42054</td>\n",
       "      <td>0.33048</td>\n",
       "      <td>0.27262</td>\n",
       "      <td>0.23016</td>\n",
       "      <td>0.20695</td>\n",
       "      <td>0.39759</td>\n",
       "      <td>0.309723</td>\n",
       "      <td>14960.488763</td>\n",
       "    </tr>\n",
       "  </tbody>\n",
       "</table>\n",
       "</div>"
      ],
      "text/plain": [
       "                         name   Bleu_1   Bleu_2   Bleu_3   Bleu_4   METEOR  \\\n",
       "0  Six_drop03_train2/epoch-4/  0.42054  0.33048  0.27262  0.23016  0.20695   \n",
       "\n",
       "   ROUGE_L  avg_score      evalTime  \n",
       "0  0.39759   0.309723  14960.488763  "
      ]
     },
     "execution_count": 56,
     "metadata": {},
     "output_type": "execute_result"
    }
   ],
   "source": [
    "getTable(\"Six_drop03_train2/epoch-4/\")"
   ]
  },
  {
   "cell_type": "code",
   "execution_count": 67,
   "metadata": {
    "scrolled": true
   },
   "outputs": [
    {
     "name": "stdout",
     "output_type": "stream",
     "text": [
      "0.310665\n"
     ]
    },
    {
     "data": {
      "text/html": [
       "<div>\n",
       "<style scoped>\n",
       "    .dataframe tbody tr th:only-of-type {\n",
       "        vertical-align: middle;\n",
       "    }\n",
       "\n",
       "    .dataframe tbody tr th {\n",
       "        vertical-align: top;\n",
       "    }\n",
       "\n",
       "    .dataframe thead th {\n",
       "        text-align: right;\n",
       "    }\n",
       "</style>\n",
       "<table border=\"1\" class=\"dataframe\">\n",
       "  <thead>\n",
       "    <tr style=\"text-align: right;\">\n",
       "      <th></th>\n",
       "      <th>name</th>\n",
       "      <th>Bleu_1</th>\n",
       "      <th>Bleu_2</th>\n",
       "      <th>Bleu_3</th>\n",
       "      <th>Bleu_4</th>\n",
       "      <th>METEOR</th>\n",
       "      <th>ROUGE_L</th>\n",
       "      <th>avg_score</th>\n",
       "      <th>evalTime</th>\n",
       "    </tr>\n",
       "  </thead>\n",
       "  <tbody>\n",
       "    <tr>\n",
       "      <th>0</th>\n",
       "      <td>Six_drop03_train3/epoch-4/</td>\n",
       "      <td>0.4252</td>\n",
       "      <td>0.33246</td>\n",
       "      <td>0.27306</td>\n",
       "      <td>0.22965</td>\n",
       "      <td>0.20831</td>\n",
       "      <td>0.39531</td>\n",
       "      <td>0.310665</td>\n",
       "      <td>3503.262422</td>\n",
       "    </tr>\n",
       "  </tbody>\n",
       "</table>\n",
       "</div>"
      ],
      "text/plain": [
       "                         name  Bleu_1   Bleu_2   Bleu_3   Bleu_4   METEOR  \\\n",
       "0  Six_drop03_train3/epoch-4/  0.4252  0.33246  0.27306  0.22965  0.20831   \n",
       "\n",
       "   ROUGE_L  avg_score     evalTime  \n",
       "0  0.39531   0.310665  3503.262422  "
      ]
     },
     "execution_count": 67,
     "metadata": {},
     "output_type": "execute_result"
    }
   ],
   "source": [
    "getTable(\"Six_drop03_train3/epoch-4/\")"
   ]
  },
  {
   "cell_type": "code",
   "execution_count": 62,
   "metadata": {
    "scrolled": true
   },
   "outputs": [
    {
     "name": "stdout",
     "output_type": "stream",
     "text": [
      "0.33926999999999996\n"
     ]
    },
    {
     "data": {
      "text/html": [
       "<div>\n",
       "<style scoped>\n",
       "    .dataframe tbody tr th:only-of-type {\n",
       "        vertical-align: middle;\n",
       "    }\n",
       "\n",
       "    .dataframe tbody tr th {\n",
       "        vertical-align: top;\n",
       "    }\n",
       "\n",
       "    .dataframe thead th {\n",
       "        text-align: right;\n",
       "    }\n",
       "</style>\n",
       "<table border=\"1\" class=\"dataframe\">\n",
       "  <thead>\n",
       "    <tr style=\"text-align: right;\">\n",
       "      <th></th>\n",
       "      <th>name</th>\n",
       "      <th>Bleu_1</th>\n",
       "      <th>Bleu_2</th>\n",
       "      <th>Bleu_3</th>\n",
       "      <th>Bleu_4</th>\n",
       "      <th>METEOR</th>\n",
       "      <th>ROUGE_L</th>\n",
       "      <th>avg_score</th>\n",
       "      <th>evalTime</th>\n",
       "    </tr>\n",
       "  </thead>\n",
       "  <tbody>\n",
       "    <tr>\n",
       "      <th>0</th>\n",
       "      <td>QG_model_six_all_distil/epoch-4/</td>\n",
       "      <td>0.45707</td>\n",
       "      <td>0.36442</td>\n",
       "      <td>0.30265</td>\n",
       "      <td>0.2566</td>\n",
       "      <td>0.22748</td>\n",
       "      <td>0.4274</td>\n",
       "      <td>0.33927</td>\n",
       "      <td>3438.479683</td>\n",
       "    </tr>\n",
       "  </tbody>\n",
       "</table>\n",
       "</div>"
      ],
      "text/plain": [
       "                               name   Bleu_1   Bleu_2   Bleu_3  Bleu_4  \\\n",
       "0  QG_model_six_all_distil/epoch-4/  0.45707  0.36442  0.30265  0.2566   \n",
       "\n",
       "    METEOR  ROUGE_L  avg_score     evalTime  \n",
       "0  0.22748   0.4274    0.33927  3438.479683  "
      ]
     },
     "execution_count": 62,
     "metadata": {},
     "output_type": "execute_result"
    }
   ],
   "source": [
    "getTable(\"QG_model_six_all_distil/epoch-4/\")"
   ]
  },
  {
   "cell_type": "code",
   "execution_count": 60,
   "metadata": {
    "scrolled": true
   },
   "outputs": [
    {
     "name": "stdout",
     "output_type": "stream",
     "text": [
      "0.32855833333333334\n"
     ]
    },
    {
     "data": {
      "text/html": [
       "<div>\n",
       "<style scoped>\n",
       "    .dataframe tbody tr th:only-of-type {\n",
       "        vertical-align: middle;\n",
       "    }\n",
       "\n",
       "    .dataframe tbody tr th {\n",
       "        vertical-align: top;\n",
       "    }\n",
       "\n",
       "    .dataframe thead th {\n",
       "        text-align: right;\n",
       "    }\n",
       "</style>\n",
       "<table border=\"1\" class=\"dataframe\">\n",
       "  <thead>\n",
       "    <tr style=\"text-align: right;\">\n",
       "      <th></th>\n",
       "      <th>name</th>\n",
       "      <th>Bleu_1</th>\n",
       "      <th>Bleu_2</th>\n",
       "      <th>Bleu_3</th>\n",
       "      <th>Bleu_4</th>\n",
       "      <th>METEOR</th>\n",
       "      <th>ROUGE_L</th>\n",
       "      <th>avg_score</th>\n",
       "      <th>evalTime</th>\n",
       "    </tr>\n",
       "  </thead>\n",
       "  <tbody>\n",
       "    <tr>\n",
       "      <th>0</th>\n",
       "      <td>QG_model_six_all_distil_train/epoch-4/</td>\n",
       "      <td>0.44468</td>\n",
       "      <td>0.35155</td>\n",
       "      <td>0.29006</td>\n",
       "      <td>0.2445</td>\n",
       "      <td>0.22075</td>\n",
       "      <td>0.41981</td>\n",
       "      <td>0.328558</td>\n",
       "      <td>3388.373242</td>\n",
       "    </tr>\n",
       "  </tbody>\n",
       "</table>\n",
       "</div>"
      ],
      "text/plain": [
       "                                     name   Bleu_1   Bleu_2   Bleu_3  Bleu_4  \\\n",
       "0  QG_model_six_all_distil_train/epoch-4/  0.44468  0.35155  0.29006  0.2445   \n",
       "\n",
       "    METEOR  ROUGE_L  avg_score     evalTime  \n",
       "0  0.22075  0.41981   0.328558  3388.373242  "
      ]
     },
     "execution_count": 60,
     "metadata": {},
     "output_type": "execute_result"
    }
   ],
   "source": [
    "getTable(\"QG_model_six_all_distil_train/epoch-4/\")"
   ]
  },
  {
   "cell_type": "code",
   "execution_count": 65,
   "metadata": {},
   "outputs": [
    {
     "name": "stdout",
     "output_type": "stream",
     "text": [
      "0.26118833333333336\n"
     ]
    },
    {
     "data": {
      "text/html": [
       "<div>\n",
       "<style scoped>\n",
       "    .dataframe tbody tr th:only-of-type {\n",
       "        vertical-align: middle;\n",
       "    }\n",
       "\n",
       "    .dataframe tbody tr th {\n",
       "        vertical-align: top;\n",
       "    }\n",
       "\n",
       "    .dataframe thead th {\n",
       "        text-align: right;\n",
       "    }\n",
       "</style>\n",
       "<table border=\"1\" class=\"dataframe\">\n",
       "  <thead>\n",
       "    <tr style=\"text-align: right;\">\n",
       "      <th></th>\n",
       "      <th>name</th>\n",
       "      <th>Bleu_1</th>\n",
       "      <th>Bleu_2</th>\n",
       "      <th>Bleu_3</th>\n",
       "      <th>Bleu_4</th>\n",
       "      <th>METEOR</th>\n",
       "      <th>ROUGE_L</th>\n",
       "      <th>avg_score</th>\n",
       "      <th>evalTime</th>\n",
       "    </tr>\n",
       "  </thead>\n",
       "  <tbody>\n",
       "    <tr>\n",
       "      <th>0</th>\n",
       "      <td>distil_data_rate05_drop01-t1-2/epoch-4/</td>\n",
       "      <td>0.36556</td>\n",
       "      <td>0.27886</td>\n",
       "      <td>0.22155</td>\n",
       "      <td>0.18125</td>\n",
       "      <td>0.18283</td>\n",
       "      <td>0.33708</td>\n",
       "      <td>0.261188</td>\n",
       "      <td>14740.165124</td>\n",
       "    </tr>\n",
       "  </tbody>\n",
       "</table>\n",
       "</div>"
      ],
      "text/plain": [
       "                                      name   Bleu_1   Bleu_2   Bleu_3  \\\n",
       "0  distil_data_rate05_drop01-t1-2/epoch-4/  0.36556  0.27886  0.22155   \n",
       "\n",
       "    Bleu_4   METEOR  ROUGE_L  avg_score      evalTime  \n",
       "0  0.18125  0.18283  0.33708   0.261188  14740.165124  "
      ]
     },
     "execution_count": 65,
     "metadata": {},
     "output_type": "execute_result"
    }
   ],
   "source": [
    "getTable(\"distil_data_rate05_drop01-t1-2/epoch-4/\")"
   ]
  },
  {
   "cell_type": "code",
   "execution_count": 66,
   "metadata": {},
   "outputs": [
    {
     "name": "stdout",
     "output_type": "stream",
     "text": [
      "0.30955\n"
     ]
    },
    {
     "data": {
      "text/html": [
       "<div>\n",
       "<style scoped>\n",
       "    .dataframe tbody tr th:only-of-type {\n",
       "        vertical-align: middle;\n",
       "    }\n",
       "\n",
       "    .dataframe tbody tr th {\n",
       "        vertical-align: top;\n",
       "    }\n",
       "\n",
       "    .dataframe thead th {\n",
       "        text-align: right;\n",
       "    }\n",
       "</style>\n",
       "<table border=\"1\" class=\"dataframe\">\n",
       "  <thead>\n",
       "    <tr style=\"text-align: right;\">\n",
       "      <th></th>\n",
       "      <th>name</th>\n",
       "      <th>Bleu_1</th>\n",
       "      <th>Bleu_2</th>\n",
       "      <th>Bleu_3</th>\n",
       "      <th>Bleu_4</th>\n",
       "      <th>METEOR</th>\n",
       "      <th>ROUGE_L</th>\n",
       "      <th>avg_score</th>\n",
       "      <th>evalTime</th>\n",
       "    </tr>\n",
       "  </thead>\n",
       "  <tbody>\n",
       "    <tr>\n",
       "      <th>0</th>\n",
       "      <td>train_data_rate1_drop03-t2-2/epoch-4/</td>\n",
       "      <td>0.42241</td>\n",
       "      <td>0.33164</td>\n",
       "      <td>0.27279</td>\n",
       "      <td>0.22954</td>\n",
       "      <td>0.20691</td>\n",
       "      <td>0.39401</td>\n",
       "      <td>0.30955</td>\n",
       "      <td>15188.259496</td>\n",
       "    </tr>\n",
       "  </tbody>\n",
       "</table>\n",
       "</div>"
      ],
      "text/plain": [
       "                                    name   Bleu_1   Bleu_2   Bleu_3   Bleu_4  \\\n",
       "0  train_data_rate1_drop03-t2-2/epoch-4/  0.42241  0.33164  0.27279  0.22954   \n",
       "\n",
       "    METEOR  ROUGE_L  avg_score      evalTime  \n",
       "0  0.20691  0.39401    0.30955  15188.259496  "
      ]
     },
     "execution_count": 66,
     "metadata": {},
     "output_type": "execute_result"
    }
   ],
   "source": [
    "getTable(\"train_data_rate1_drop03-t2-2/epoch-4/\")"
   ]
  },
  {
   "cell_type": "code",
   "execution_count": 68,
   "metadata": {
    "scrolled": true
   },
   "outputs": [
    {
     "name": "stdout",
     "output_type": "stream",
     "text": [
      "0.31932166666666667\n"
     ]
    },
    {
     "data": {
      "text/html": [
       "<div>\n",
       "<style scoped>\n",
       "    .dataframe tbody tr th:only-of-type {\n",
       "        vertical-align: middle;\n",
       "    }\n",
       "\n",
       "    .dataframe tbody tr th {\n",
       "        vertical-align: top;\n",
       "    }\n",
       "\n",
       "    .dataframe thead th {\n",
       "        text-align: right;\n",
       "    }\n",
       "</style>\n",
       "<table border=\"1\" class=\"dataframe\">\n",
       "  <thead>\n",
       "    <tr style=\"text-align: right;\">\n",
       "      <th></th>\n",
       "      <th>name</th>\n",
       "      <th>Bleu_1</th>\n",
       "      <th>Bleu_2</th>\n",
       "      <th>Bleu_3</th>\n",
       "      <th>Bleu_4</th>\n",
       "      <th>METEOR</th>\n",
       "      <th>ROUGE_L</th>\n",
       "      <th>avg_score</th>\n",
       "      <th>evalTime</th>\n",
       "    </tr>\n",
       "  </thead>\n",
       "  <tbody>\n",
       "    <tr>\n",
       "      <th>0</th>\n",
       "      <td>distil_data_rate05_drop01-t1-2_train_rate1/epo...</td>\n",
       "      <td>0.43429</td>\n",
       "      <td>0.34225</td>\n",
       "      <td>0.28188</td>\n",
       "      <td>0.23747</td>\n",
       "      <td>0.21419</td>\n",
       "      <td>0.40585</td>\n",
       "      <td>0.319322</td>\n",
       "      <td>3426.576925</td>\n",
       "    </tr>\n",
       "  </tbody>\n",
       "</table>\n",
       "</div>"
      ],
      "text/plain": [
       "                                                name   Bleu_1   Bleu_2  \\\n",
       "0  distil_data_rate05_drop01-t1-2_train_rate1/epo...  0.43429  0.34225   \n",
       "\n",
       "    Bleu_3   Bleu_4   METEOR  ROUGE_L  avg_score     evalTime  \n",
       "0  0.28188  0.23747  0.21419  0.40585   0.319322  3426.576925  "
      ]
     },
     "execution_count": 68,
     "metadata": {},
     "output_type": "execute_result"
    }
   ],
   "source": [
    "getTable(\"distil_data_rate05_drop01-t1-2_train_rate1/epoch-4/\")"
   ]
  },
  {
   "cell_type": "code",
   "execution_count": 69,
   "metadata": {},
   "outputs": [
    {
     "name": "stdout",
     "output_type": "stream",
     "text": [
      "0.3465833333333334\n"
     ]
    },
    {
     "data": {
      "text/html": [
       "<div>\n",
       "<style scoped>\n",
       "    .dataframe tbody tr th:only-of-type {\n",
       "        vertical-align: middle;\n",
       "    }\n",
       "\n",
       "    .dataframe tbody tr th {\n",
       "        vertical-align: top;\n",
       "    }\n",
       "\n",
       "    .dataframe thead th {\n",
       "        text-align: right;\n",
       "    }\n",
       "</style>\n",
       "<table border=\"1\" class=\"dataframe\">\n",
       "  <thead>\n",
       "    <tr style=\"text-align: right;\">\n",
       "      <th></th>\n",
       "      <th>name</th>\n",
       "      <th>Bleu_1</th>\n",
       "      <th>Bleu_2</th>\n",
       "      <th>Bleu_3</th>\n",
       "      <th>Bleu_4</th>\n",
       "      <th>METEOR</th>\n",
       "      <th>ROUGE_L</th>\n",
       "      <th>avg_score</th>\n",
       "      <th>evalTime</th>\n",
       "    </tr>\n",
       "  </thead>\n",
       "  <tbody>\n",
       "    <tr>\n",
       "      <th>0</th>\n",
       "      <td>distil_rate05_drop03_train_rate1_drop01/epoch-4/</td>\n",
       "      <td>0.46267</td>\n",
       "      <td>0.37143</td>\n",
       "      <td>0.31017</td>\n",
       "      <td>0.26409</td>\n",
       "      <td>0.23212</td>\n",
       "      <td>0.43902</td>\n",
       "      <td>0.346583</td>\n",
       "      <td>3436.737839</td>\n",
       "    </tr>\n",
       "  </tbody>\n",
       "</table>\n",
       "</div>"
      ],
      "text/plain": [
       "                                               name   Bleu_1   Bleu_2  \\\n",
       "0  distil_rate05_drop03_train_rate1_drop01/epoch-4/  0.46267  0.37143   \n",
       "\n",
       "    Bleu_3   Bleu_4   METEOR  ROUGE_L  avg_score     evalTime  \n",
       "0  0.31017  0.26409  0.23212  0.43902   0.346583  3436.737839  "
      ]
     },
     "execution_count": 69,
     "metadata": {},
     "output_type": "execute_result"
    }
   ],
   "source": [
    "getTable(\"distil_rate05_drop03_train_rate1_drop01/epoch-4/\")"
   ]
  },
  {
   "cell_type": "code",
   "execution_count": 79,
   "metadata": {},
   "outputs": [
    {
     "name": "stdout",
     "output_type": "stream",
     "text": [
      "0.30600166666666667\n"
     ]
    },
    {
     "data": {
      "text/html": [
       "<div>\n",
       "<style scoped>\n",
       "    .dataframe tbody tr th:only-of-type {\n",
       "        vertical-align: middle;\n",
       "    }\n",
       "\n",
       "    .dataframe tbody tr th {\n",
       "        vertical-align: top;\n",
       "    }\n",
       "\n",
       "    .dataframe thead th {\n",
       "        text-align: right;\n",
       "    }\n",
       "</style>\n",
       "<table border=\"1\" class=\"dataframe\">\n",
       "  <thead>\n",
       "    <tr style=\"text-align: right;\">\n",
       "      <th></th>\n",
       "      <th>name</th>\n",
       "      <th>Bleu_1</th>\n",
       "      <th>Bleu_2</th>\n",
       "      <th>Bleu_3</th>\n",
       "      <th>Bleu_4</th>\n",
       "      <th>METEOR</th>\n",
       "      <th>ROUGE_L</th>\n",
       "      <th>avg_score</th>\n",
       "      <th>evalTime</th>\n",
       "    </tr>\n",
       "  </thead>\n",
       "  <tbody>\n",
       "    <tr>\n",
       "      <th>0</th>\n",
       "      <td>QG_model_six_all_distil_rate1_drop03/epoch-4/</td>\n",
       "      <td>0.41829</td>\n",
       "      <td>0.32728</td>\n",
       "      <td>0.26892</td>\n",
       "      <td>0.22641</td>\n",
       "      <td>0.2042</td>\n",
       "      <td>0.39091</td>\n",
       "      <td>0.306002</td>\n",
       "      <td>15244.486665</td>\n",
       "    </tr>\n",
       "  </tbody>\n",
       "</table>\n",
       "</div>"
      ],
      "text/plain": [
       "                                            name   Bleu_1   Bleu_2   Bleu_3  \\\n",
       "0  QG_model_six_all_distil_rate1_drop03/epoch-4/  0.41829  0.32728  0.26892   \n",
       "\n",
       "    Bleu_4  METEOR  ROUGE_L  avg_score      evalTime  \n",
       "0  0.22641  0.2042  0.39091   0.306002  15244.486665  "
      ]
     },
     "execution_count": 79,
     "metadata": {},
     "output_type": "execute_result"
    }
   ],
   "source": [
    "getTable(\"QG_model_six_all_distil_rate1_drop03/epoch-4/\")"
   ]
  },
  {
   "cell_type": "markdown",
   "metadata": {},
   "source": [
    "# compare"
   ]
  },
  {
   "cell_type": "code",
   "execution_count": 48,
   "metadata": {
    "scrolled": true
   },
   "outputs": [
    {
     "name": "stdout",
     "output_type": "stream",
     "text": [
      "0.347\n"
     ]
    },
    {
     "data": {
      "text/html": [
       "<div>\n",
       "<style scoped>\n",
       "    .dataframe tbody tr th:only-of-type {\n",
       "        vertical-align: middle;\n",
       "    }\n",
       "\n",
       "    .dataframe tbody tr th {\n",
       "        vertical-align: top;\n",
       "    }\n",
       "\n",
       "    .dataframe thead th {\n",
       "        text-align: right;\n",
       "    }\n",
       "</style>\n",
       "<table border=\"1\" class=\"dataframe\">\n",
       "  <thead>\n",
       "    <tr style=\"text-align: right;\">\n",
       "      <th></th>\n",
       "      <th>name</th>\n",
       "      <th>Bleu_1</th>\n",
       "      <th>Bleu_2</th>\n",
       "      <th>Bleu_3</th>\n",
       "      <th>Bleu_4</th>\n",
       "      <th>METEOR</th>\n",
       "      <th>ROUGE_L</th>\n",
       "      <th>avg_score</th>\n",
       "      <th>evalTime</th>\n",
       "    </tr>\n",
       "  </thead>\n",
       "  <tbody>\n",
       "    <tr>\n",
       "      <th>0</th>\n",
       "      <td>../BERT_QG_DRCD/SQG_DRCD/epoch-4/</td>\n",
       "      <td>0.46383</td>\n",
       "      <td>0.37241</td>\n",
       "      <td>0.31131</td>\n",
       "      <td>0.26536</td>\n",
       "      <td>0.23203</td>\n",
       "      <td>0.43706</td>\n",
       "      <td>0.347</td>\n",
       "      <td>0.0</td>\n",
       "    </tr>\n",
       "  </tbody>\n",
       "</table>\n",
       "</div>"
      ],
      "text/plain": [
       "                                name   Bleu_1   Bleu_2   Bleu_3   Bleu_4  \\\n",
       "0  ../BERT_QG_DRCD/SQG_DRCD/epoch-4/  0.46383  0.37241  0.31131  0.26536   \n",
       "\n",
       "    METEOR  ROUGE_L  avg_score  evalTime  \n",
       "0  0.23203  0.43706      0.347       0.0  "
      ]
     },
     "execution_count": 48,
     "metadata": {},
     "output_type": "execute_result"
    }
   ],
   "source": [
    "getTable(\"../BERT_QG_DRCD/SQG_DRCD/epoch-4/\") #我自己用全部資料train十二層的"
   ]
  },
  {
   "cell_type": "code",
   "execution_count": 50,
   "metadata": {
    "scrolled": true
   },
   "outputs": [
    {
     "name": "stdout",
     "output_type": "stream",
     "text": [
      "0.36675833333333335\n"
     ]
    },
    {
     "data": {
      "text/html": [
       "<div>\n",
       "<style scoped>\n",
       "    .dataframe tbody tr th:only-of-type {\n",
       "        vertical-align: middle;\n",
       "    }\n",
       "\n",
       "    .dataframe tbody tr th {\n",
       "        vertical-align: top;\n",
       "    }\n",
       "\n",
       "    .dataframe thead th {\n",
       "        text-align: right;\n",
       "    }\n",
       "</style>\n",
       "<table border=\"1\" class=\"dataframe\">\n",
       "  <thead>\n",
       "    <tr style=\"text-align: right;\">\n",
       "      <th></th>\n",
       "      <th>name</th>\n",
       "      <th>Bleu_1</th>\n",
       "      <th>Bleu_2</th>\n",
       "      <th>Bleu_3</th>\n",
       "      <th>Bleu_4</th>\n",
       "      <th>METEOR</th>\n",
       "      <th>ROUGE_L</th>\n",
       "      <th>avg_score</th>\n",
       "      <th>evalTime</th>\n",
       "    </tr>\n",
       "  </thead>\n",
       "  <tbody>\n",
       "    <tr>\n",
       "      <th>0</th>\n",
       "      <td>../betterBlue2/QG_model/</td>\n",
       "      <td>0.48689</td>\n",
       "      <td>0.39655</td>\n",
       "      <td>0.33515</td>\n",
       "      <td>0.2883</td>\n",
       "      <td>0.24388</td>\n",
       "      <td>0.44978</td>\n",
       "      <td>0.366758</td>\n",
       "      <td>5993.456949</td>\n",
       "    </tr>\n",
       "  </tbody>\n",
       "</table>\n",
       "</div>"
      ],
      "text/plain": [
       "                       name   Bleu_1   Bleu_2   Bleu_3  Bleu_4   METEOR  \\\n",
       "0  ../betterBlue2/QG_model/  0.48689  0.39655  0.33515  0.2883  0.24388   \n",
       "\n",
       "   ROUGE_L  avg_score     evalTime  \n",
       "0  0.44978   0.366758  5993.456949  "
      ]
     },
     "execution_count": 50,
     "metadata": {},
     "output_type": "execute_result"
    }
   ],
   "source": [
    "getTable(\"../betterBlue2/QG_model/\") #學長的"
   ]
  },
  {
   "cell_type": "code",
   "execution_count": 59,
   "metadata": {},
   "outputs": [
    {
     "name": "stdout",
     "output_type": "stream",
     "text": [
      "0.35266000000000003\n"
     ]
    },
    {
     "data": {
      "text/html": [
       "<div>\n",
       "<style scoped>\n",
       "    .dataframe tbody tr th:only-of-type {\n",
       "        vertical-align: middle;\n",
       "    }\n",
       "\n",
       "    .dataframe tbody tr th {\n",
       "        vertical-align: top;\n",
       "    }\n",
       "\n",
       "    .dataframe thead th {\n",
       "        text-align: right;\n",
       "    }\n",
       "</style>\n",
       "<table border=\"1\" class=\"dataframe\">\n",
       "  <thead>\n",
       "    <tr style=\"text-align: right;\">\n",
       "      <th></th>\n",
       "      <th>name</th>\n",
       "      <th>Bleu_1</th>\n",
       "      <th>Bleu_2</th>\n",
       "      <th>Bleu_3</th>\n",
       "      <th>Bleu_4</th>\n",
       "      <th>METEOR</th>\n",
       "      <th>ROUGE_L</th>\n",
       "      <th>avg_score</th>\n",
       "      <th>evalTime</th>\n",
       "    </tr>\n",
       "  </thead>\n",
       "  <tbody>\n",
       "    <tr>\n",
       "      <th>0</th>\n",
       "      <td>train_data_rate1-t2/epoch-4/</td>\n",
       "      <td>0.47053</td>\n",
       "      <td>0.37928</td>\n",
       "      <td>0.31813</td>\n",
       "      <td>0.27206</td>\n",
       "      <td>0.23517</td>\n",
       "      <td>0.44079</td>\n",
       "      <td>0.35266</td>\n",
       "      <td>3518.408209</td>\n",
       "    </tr>\n",
       "  </tbody>\n",
       "</table>\n",
       "</div>"
      ],
      "text/plain": [
       "                           name   Bleu_1   Bleu_2   Bleu_3   Bleu_4   METEOR  \\\n",
       "0  train_data_rate1-t2/epoch-4/  0.47053  0.37928  0.31813  0.27206  0.23517   \n",
       "\n",
       "   ROUGE_L  avg_score     evalTime  \n",
       "0  0.44079    0.35266  3518.408209  "
      ]
     },
     "execution_count": 59,
     "metadata": {},
     "output_type": "execute_result"
    }
   ],
   "source": [
    "getTable(\"train_data_rate1-t2/epoch-4/\") #目前最高"
   ]
  },
  {
   "cell_type": "code",
   "execution_count": 71,
   "metadata": {},
   "outputs": [
    {
     "name": "stdout",
     "output_type": "stream",
     "text": [
      "0.3156933333333333\n"
     ]
    },
    {
     "data": {
      "text/html": [
       "<div>\n",
       "<style scoped>\n",
       "    .dataframe tbody tr th:only-of-type {\n",
       "        vertical-align: middle;\n",
       "    }\n",
       "\n",
       "    .dataframe tbody tr th {\n",
       "        vertical-align: top;\n",
       "    }\n",
       "\n",
       "    .dataframe thead th {\n",
       "        text-align: right;\n",
       "    }\n",
       "</style>\n",
       "<table border=\"1\" class=\"dataframe\">\n",
       "  <thead>\n",
       "    <tr style=\"text-align: right;\">\n",
       "      <th></th>\n",
       "      <th>name</th>\n",
       "      <th>Bleu_1</th>\n",
       "      <th>Bleu_2</th>\n",
       "      <th>Bleu_3</th>\n",
       "      <th>Bleu_4</th>\n",
       "      <th>METEOR</th>\n",
       "      <th>ROUGE_L</th>\n",
       "      <th>avg_score</th>\n",
       "      <th>evalTime</th>\n",
       "    </tr>\n",
       "  </thead>\n",
       "  <tbody>\n",
       "    <tr>\n",
       "      <th>0</th>\n",
       "      <td>train_data_rate1-t2/epoch-1/</td>\n",
       "      <td>0.4292</td>\n",
       "      <td>0.33751</td>\n",
       "      <td>0.27815</td>\n",
       "      <td>0.23449</td>\n",
       "      <td>0.21092</td>\n",
       "      <td>0.40389</td>\n",
       "      <td>0.315693</td>\n",
       "      <td>10234.942755</td>\n",
       "    </tr>\n",
       "  </tbody>\n",
       "</table>\n",
       "</div>"
      ],
      "text/plain": [
       "                           name  Bleu_1   Bleu_2   Bleu_3   Bleu_4   METEOR  \\\n",
       "0  train_data_rate1-t2/epoch-1/  0.4292  0.33751  0.27815  0.23449  0.21092   \n",
       "\n",
       "   ROUGE_L  avg_score      evalTime  \n",
       "0  0.40389   0.315693  10234.942755  "
      ]
     },
     "execution_count": 71,
     "metadata": {},
     "output_type": "execute_result"
    }
   ],
   "source": [
    "getTable(\"train_data_rate1-t2/epoch-1/\") "
   ]
  },
  {
   "cell_type": "code",
   "execution_count": 72,
   "metadata": {},
   "outputs": [
    {
     "name": "stdout",
     "output_type": "stream",
     "text": [
      "0.33247999999999994\n"
     ]
    },
    {
     "data": {
      "text/html": [
       "<div>\n",
       "<style scoped>\n",
       "    .dataframe tbody tr th:only-of-type {\n",
       "        vertical-align: middle;\n",
       "    }\n",
       "\n",
       "    .dataframe tbody tr th {\n",
       "        vertical-align: top;\n",
       "    }\n",
       "\n",
       "    .dataframe thead th {\n",
       "        text-align: right;\n",
       "    }\n",
       "</style>\n",
       "<table border=\"1\" class=\"dataframe\">\n",
       "  <thead>\n",
       "    <tr style=\"text-align: right;\">\n",
       "      <th></th>\n",
       "      <th>name</th>\n",
       "      <th>Bleu_1</th>\n",
       "      <th>Bleu_2</th>\n",
       "      <th>Bleu_3</th>\n",
       "      <th>Bleu_4</th>\n",
       "      <th>METEOR</th>\n",
       "      <th>ROUGE_L</th>\n",
       "      <th>avg_score</th>\n",
       "      <th>evalTime</th>\n",
       "    </tr>\n",
       "  </thead>\n",
       "  <tbody>\n",
       "    <tr>\n",
       "      <th>0</th>\n",
       "      <td>train_data_rate1-t2/epoch-2/</td>\n",
       "      <td>0.4467</td>\n",
       "      <td>0.35634</td>\n",
       "      <td>0.29659</td>\n",
       "      <td>0.25204</td>\n",
       "      <td>0.22196</td>\n",
       "      <td>0.42125</td>\n",
       "      <td>0.33248</td>\n",
       "      <td>10288.567754</td>\n",
       "    </tr>\n",
       "  </tbody>\n",
       "</table>\n",
       "</div>"
      ],
      "text/plain": [
       "                           name  Bleu_1   Bleu_2   Bleu_3   Bleu_4   METEOR  \\\n",
       "0  train_data_rate1-t2/epoch-2/  0.4467  0.35634  0.29659  0.25204  0.22196   \n",
       "\n",
       "   ROUGE_L  avg_score      evalTime  \n",
       "0  0.42125    0.33248  10288.567754  "
      ]
     },
     "execution_count": 72,
     "metadata": {},
     "output_type": "execute_result"
    }
   ],
   "source": [
    "getTable(\"train_data_rate1-t2/epoch-2/\") "
   ]
  },
  {
   "cell_type": "code",
   "execution_count": 75,
   "metadata": {},
   "outputs": [
    {
     "name": "stdout",
     "output_type": "stream",
     "text": [
      "0.3392633333333333\n"
     ]
    },
    {
     "data": {
      "text/html": [
       "<div>\n",
       "<style scoped>\n",
       "    .dataframe tbody tr th:only-of-type {\n",
       "        vertical-align: middle;\n",
       "    }\n",
       "\n",
       "    .dataframe tbody tr th {\n",
       "        vertical-align: top;\n",
       "    }\n",
       "\n",
       "    .dataframe thead th {\n",
       "        text-align: right;\n",
       "    }\n",
       "</style>\n",
       "<table border=\"1\" class=\"dataframe\">\n",
       "  <thead>\n",
       "    <tr style=\"text-align: right;\">\n",
       "      <th></th>\n",
       "      <th>name</th>\n",
       "      <th>Bleu_1</th>\n",
       "      <th>Bleu_2</th>\n",
       "      <th>Bleu_3</th>\n",
       "      <th>Bleu_4</th>\n",
       "      <th>METEOR</th>\n",
       "      <th>ROUGE_L</th>\n",
       "      <th>avg_score</th>\n",
       "      <th>evalTime</th>\n",
       "    </tr>\n",
       "  </thead>\n",
       "  <tbody>\n",
       "    <tr>\n",
       "      <th>0</th>\n",
       "      <td>train_data_rate1-t2/epoch-3/</td>\n",
       "      <td>0.452</td>\n",
       "      <td>0.36238</td>\n",
       "      <td>0.30334</td>\n",
       "      <td>0.25921</td>\n",
       "      <td>0.22629</td>\n",
       "      <td>0.43236</td>\n",
       "      <td>0.339263</td>\n",
       "      <td>10169.003558</td>\n",
       "    </tr>\n",
       "  </tbody>\n",
       "</table>\n",
       "</div>"
      ],
      "text/plain": [
       "                           name  Bleu_1   Bleu_2   Bleu_3   Bleu_4   METEOR  \\\n",
       "0  train_data_rate1-t2/epoch-3/   0.452  0.36238  0.30334  0.25921  0.22629   \n",
       "\n",
       "   ROUGE_L  avg_score      evalTime  \n",
       "0  0.43236   0.339263  10169.003558  "
      ]
     },
     "execution_count": 75,
     "metadata": {},
     "output_type": "execute_result"
    }
   ],
   "source": [
    "getTable(\"train_data_rate1-t2/epoch-3/\") "
   ]
  },
  {
   "cell_type": "code",
   "execution_count": 80,
   "metadata": {},
   "outputs": [
    {
     "name": "stdout",
     "output_type": "stream",
     "text": [
      "0.31433833333333333\n"
     ]
    },
    {
     "data": {
      "text/html": [
       "<div>\n",
       "<style scoped>\n",
       "    .dataframe tbody tr th:only-of-type {\n",
       "        vertical-align: middle;\n",
       "    }\n",
       "\n",
       "    .dataframe tbody tr th {\n",
       "        vertical-align: top;\n",
       "    }\n",
       "\n",
       "    .dataframe thead th {\n",
       "        text-align: right;\n",
       "    }\n",
       "</style>\n",
       "<table border=\"1\" class=\"dataframe\">\n",
       "  <thead>\n",
       "    <tr style=\"text-align: right;\">\n",
       "      <th></th>\n",
       "      <th>name</th>\n",
       "      <th>Bleu_1</th>\n",
       "      <th>Bleu_2</th>\n",
       "      <th>Bleu_3</th>\n",
       "      <th>Bleu_4</th>\n",
       "      <th>METEOR</th>\n",
       "      <th>ROUGE_L</th>\n",
       "      <th>avg_score</th>\n",
       "      <th>evalTime</th>\n",
       "    </tr>\n",
       "  </thead>\n",
       "  <tbody>\n",
       "    <tr>\n",
       "      <th>0</th>\n",
       "      <td>QG_model_six_all_distil_rate1_drop03_train/epo...</td>\n",
       "      <td>0.42841</td>\n",
       "      <td>0.3366</td>\n",
       "      <td>0.27694</td>\n",
       "      <td>0.23326</td>\n",
       "      <td>0.21015</td>\n",
       "      <td>0.40067</td>\n",
       "      <td>0.314338</td>\n",
       "      <td>3404.920015</td>\n",
       "    </tr>\n",
       "  </tbody>\n",
       "</table>\n",
       "</div>"
      ],
      "text/plain": [
       "                                                name   Bleu_1  Bleu_2  \\\n",
       "0  QG_model_six_all_distil_rate1_drop03_train/epo...  0.42841  0.3366   \n",
       "\n",
       "    Bleu_3   Bleu_4   METEOR  ROUGE_L  avg_score     evalTime  \n",
       "0  0.27694  0.23326  0.21015  0.40067   0.314338  3404.920015  "
      ]
     },
     "execution_count": 80,
     "metadata": {},
     "output_type": "execute_result"
    }
   ],
   "source": [
    "getTable(\"QG_model_six_all_distil_rate1_drop03_train/epoch-4/\") "
   ]
  },
  {
   "cell_type": "code",
   "execution_count": 1,
   "metadata": {},
   "outputs": [
    {
     "name": "stdout",
     "output_type": "stream",
     "text": [
      "QG_model\r\n",
      "QG_model_six\r\n",
      "QG_model_six_all_distil\r\n",
      "QG_model_six_all_distil_rate1_drop03\r\n",
      "QG_model_six_all_distil_rate1_drop03_train\r\n",
      "QG_model_six_all_distil_train\r\n",
      "SQG_prediction.py\r\n",
      "SQG_train.py\r\n",
      "Six_drop03\r\n",
      "Six_drop03_train\r\n",
      "Six_drop03_train2\r\n",
      "Six_drop03_train3\r\n",
      "cmd.ipynb\r\n",
      "cmd.txt\r\n",
      "distil.py\r\n",
      "distil_data_rate05-1\r\n",
      "distil_data_rate05_drop01-t1-2\r\n",
      "distil_data_rate05_drop01-t1-2_train_rate1\r\n",
      "distil_data_rate05_drop03-t1\r\n",
      "distil_data_rate1-t3\r\n",
      "distil_rate05_drop03_train_rate1_drop01\r\n",
      "distilbert_DCRD\r\n",
      "distilbert_DCRD2\r\n",
      "eval.ipynb\r\n",
      "eval_flops.ipynb\r\n",
      "pre.out\r\n",
      "qg.out\r\n",
      "rate1.out\r\n",
      "testing_data.json\r\n",
      "train_data_rate05-t2\r\n",
      "train_data_rate1-t2\r\n",
      "train_data_rate1-t3-2\r\n",
      "train_data_rate1_drop03-t2-2\r\n",
      "training_data.json\r\n",
      "training_data.json_cached\r\n",
      "training_data.jsoncached\r\n",
      "wandb\r\n"
     ]
    }
   ],
   "source": [
    "!ls"
   ]
  },
  {
   "cell_type": "code",
   "execution_count": 2,
   "metadata": {},
   "outputs": [
    {
     "name": "stdout",
     "output_type": "stream",
     "text": [
      "Initialized empty Git repository in /user_data/final/.git/\n",
      "[master (root-commit) 74ba3a9] first commit\n",
      " 1 file changed, 1 insertion(+)\n",
      " create mode 100644 README.md\n",
      "Username for 'https://github.com': ^C\n"
     ]
    }
   ],
   "source": [
    "!echo \"# BERT_DCRD\" >> README.md\n",
    "!git init\n",
    "!git add README.md\n",
    "!git commit -m \"first commit\"\n",
    "!git branch -M main\n",
    "!git remote add origin https://github.com/pupumeme/BERT_DCRD.git\n",
    "!git push -u origin main"
   ]
  }
 ],
 "metadata": {
  "kernelspec": {
   "display_name": "Python 3",
   "language": "python",
   "name": "python3"
  },
  "language_info": {
   "codemirror_mode": {
    "name": "ipython",
    "version": 3
   },
   "file_extension": ".py",
   "mimetype": "text/x-python",
   "name": "python",
   "nbconvert_exporter": "python",
   "pygments_lexer": "ipython3",
   "version": "3.6.9"
  }
 },
 "nbformat": 4,
 "nbformat_minor": 2
}
