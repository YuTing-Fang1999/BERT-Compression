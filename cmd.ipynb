{
 "cells": [
  {
   "cell_type": "markdown",
   "metadata": {},
   "source": [
    "# predict"
   ]
  },
  {
   "cell_type": "code",
   "execution_count": 46,
   "metadata": {},
   "outputs": [],
   "source": [
    "def predict(dir_name,model_type=\"bert\"):\n",
    "  print(\"CUDA_VISIBLE_DEVICES=1 nohup python3 SQG_prediction.py --model_type {1} --model_name_or_path  {0}/ --do_lower_case  --max_seq_length 512 --doc_stride 450  --max_query_length 42 --max_answer_length 16 --beam_size 3 --predict_file testing_data.json > pre.out &\".format(dir_name,model_type))\n"
   ]
  },
  {
   "cell_type": "code",
   "execution_count": 38,
   "metadata": {},
   "outputs": [
    {
     "name": "stdout",
     "output_type": "stream",
     "text": [
      "CUDA_VISIBLE_DEVICES=1 nohup python3 SQG_prediction.py --model_type bert --model_name_or_path  distil_data_rate1-t3/epoch-4 --do_lower_case  --max_seq_length 512 --doc_stride 450  --max_query_length 42 --max_answer_length 16 --beam_size 3 --predict_file testing_data.json > pre.out &\n"
     ]
    }
   ],
   "source": [
    "predict(\"distil_data_rate1-t3/epoch-4\")"
   ]
  },
  {
   "cell_type": "code",
   "execution_count": 40,
   "metadata": {
    "scrolled": true
   },
   "outputs": [
    {
     "name": "stdout",
     "output_type": "stream",
     "text": [
      "CUDA_VISIBLE_DEVICES=1 nohup python3 SQG_prediction.py --model_type bert --model_name_or_path  train_data_rate1-t3-2/epoch-4 --do_lower_case  --max_seq_length 512 --doc_stride 450  --max_query_length 42 --max_answer_length 16 --beam_size 3 --predict_file testing_data.json > pre.out &\n"
     ]
    }
   ],
   "source": [
    "predict(\"train_data_rate1-t3-2/epoch-4/\")"
   ]
  },
  {
   "cell_type": "code",
   "execution_count": 44,
   "metadata": {},
   "outputs": [
    {
     "name": "stdout",
     "output_type": "stream",
     "text": [
      "CUDA_VISIBLE_DEVICES=1 nohup python3 SQG_prediction.py --model_type distilbert --model_name_or_path  distilbert_DCRD2/epoch-4/ --do_lower_case  --max_seq_length 512 --doc_stride 450  --max_query_length 42 --max_answer_length 16 --beam_size 3 --predict_file testing_data.json > pre.out &\n"
     ]
    }
   ],
   "source": [
    "predict(\"distilbert_DCRD2/epoch-4/\",model_type=\"distilbert\")"
   ]
  },
  {
   "cell_type": "code",
   "execution_count": 41,
   "metadata": {
    "scrolled": false
   },
   "outputs": [
    {
     "name": "stdout",
     "output_type": "stream",
     "text": [
      "CUDA_VISIBLE_DEVICES=1 nohup python3 SQG_prediction.py --model_type bert --model_name_or_path  Six_drop03_train/epoch-4/ --do_lower_case  --max_seq_length 512 --doc_stride 450  --max_query_length 42 --max_answer_length 16 --beam_size 3 --predict_file testing_data.json > pre.out &\n"
     ]
    }
   ],
   "source": [
    "predict(\"Six_drop03_train/epoch-4/\")"
   ]
  },
  {
   "cell_type": "code",
   "execution_count": 52,
   "metadata": {
    "scrolled": true
   },
   "outputs": [
    {
     "name": "stdout",
     "output_type": "stream",
     "text": [
      "CUDA_VISIBLE_DEVICES=1 nohup python3 SQG_prediction.py --model_type bert --model_name_or_path  Six_drop03_train2/epoch-4// --do_lower_case  --max_seq_length 512 --doc_stride 450  --max_query_length 42 --max_answer_length 16 --beam_size 3 --predict_file testing_data.json > pre.out &\n"
     ]
    }
   ],
   "source": [
    "predict(\"Six_drop03_train2/epoch-4/\")"
   ]
  },
  {
   "cell_type": "code",
   "execution_count": 68,
   "metadata": {
    "scrolled": true
   },
   "outputs": [
    {
     "name": "stdout",
     "output_type": "stream",
     "text": [
      "CUDA_VISIBLE_DEVICES=1 nohup python3 SQG_prediction.py --model_type bert --model_name_or_path  Six_drop03_train3/epoch-4// --do_lower_case  --max_seq_length 512 --doc_stride 450  --max_query_length 42 --max_answer_length 16 --beam_size 3 --predict_file testing_data.json > pre.out &\n"
     ]
    }
   ],
   "source": [
    "predict(\"Six_drop03_train3/epoch-4/\")"
   ]
  },
  {
   "cell_type": "code",
   "execution_count": 53,
   "metadata": {
    "scrolled": false
   },
   "outputs": [
    {
     "name": "stdout",
     "output_type": "stream",
     "text": [
      "CUDA_VISIBLE_DEVICES=1 nohup python3 SQG_prediction.py --model_type bert --model_name_or_path  train_data_rate1-t2-2/epoch-4// --do_lower_case  --max_seq_length 512 --doc_stride 450  --max_query_length 42 --max_answer_length 16 --beam_size 3 --predict_file testing_data.json > pre.out &\n"
     ]
    }
   ],
   "source": [
    "predict(\"train_data_rate1-t2-2/epoch-4/\")"
   ]
  },
  {
   "cell_type": "code",
   "execution_count": 54,
   "metadata": {
    "scrolled": true
   },
   "outputs": [
    {
     "name": "stdout",
     "output_type": "stream",
     "text": [
      "CUDA_VISIBLE_DEVICES=1 nohup python3 SQG_prediction.py --model_type bert --model_name_or_path  train_data_rate1_drop03-t2-2/epoch-4// --do_lower_case  --max_seq_length 512 --doc_stride 450  --max_query_length 42 --max_answer_length 16 --beam_size 3 --predict_file testing_data.json > pre.out &\n"
     ]
    }
   ],
   "source": [
    "predict(\"train_data_rate1_drop03-t2-2/epoch-4/\")"
   ]
  },
  {
   "cell_type": "code",
   "execution_count": 58,
   "metadata": {},
   "outputs": [
    {
     "name": "stdout",
     "output_type": "stream",
     "text": [
      "CUDA_VISIBLE_DEVICES=1 nohup python3 SQG_prediction.py --model_type bert --model_name_or_path  distil_data_rate05_drop01-t1-2/epoch-4// --do_lower_case  --max_seq_length 512 --doc_stride 450  --max_query_length 42 --max_answer_length 16 --beam_size 3 --predict_file testing_data.json > pre.out &\n"
     ]
    }
   ],
   "source": [
    "predict(\"distil_data_rate05_drop01-t1-2/epoch-4/\")"
   ]
  },
  {
   "cell_type": "code",
   "execution_count": 60,
   "metadata": {},
   "outputs": [
    {
     "name": "stdout",
     "output_type": "stream",
     "text": [
      "CUDA_VISIBLE_DEVICES=1 nohup python3 SQG_prediction.py --model_type bert --model_name_or_path  train_data_rate1-t2/epoch-4// --do_lower_case  --max_seq_length 512 --doc_stride 450  --max_query_length 42 --max_answer_length 16 --beam_size 3 --predict_file testing_data.json > pre.out &\n"
     ]
    }
   ],
   "source": [
    "predict(\"train_data_rate1-t2/epoch-4/\")"
   ]
  },
  {
   "cell_type": "code",
   "execution_count": 62,
   "metadata": {},
   "outputs": [
    {
     "name": "stdout",
     "output_type": "stream",
     "text": [
      "CUDA_VISIBLE_DEVICES=1 nohup python3 SQG_prediction.py --model_type bert --model_name_or_path  QG_model_six_all_distil/epoch-4// --do_lower_case  --max_seq_length 512 --doc_stride 450  --max_query_length 42 --max_answer_length 16 --beam_size 3 --predict_file testing_data.json > pre.out &\n"
     ]
    }
   ],
   "source": [
    "predict(\"QG_model_six_all_distil/epoch-4/\")"
   ]
  },
  {
   "cell_type": "code",
   "execution_count": 63,
   "metadata": {},
   "outputs": [
    {
     "name": "stdout",
     "output_type": "stream",
     "text": [
      "CUDA_VISIBLE_DEVICES=1 nohup python3 SQG_prediction.py --model_type bert --model_name_or_path  QG_model_six_all_distil_train/epoch-4// --do_lower_case  --max_seq_length 512 --doc_stride 450  --max_query_length 42 --max_answer_length 16 --beam_size 3 --predict_file testing_data.json > pre.out &\n"
     ]
    }
   ],
   "source": [
    "predict(\"QG_model_six_all_distil_train/epoch-4/\")"
   ]
  },
  {
   "cell_type": "code",
   "execution_count": 70,
   "metadata": {},
   "outputs": [
    {
     "name": "stdout",
     "output_type": "stream",
     "text": [
      "CUDA_VISIBLE_DEVICES=1 nohup python3 SQG_prediction.py --model_type bert --model_name_or_path  distil_data_rate05_drop01-t1-2_train_rate1/epoch-4// --do_lower_case  --max_seq_length 512 --doc_stride 450  --max_query_length 42 --max_answer_length 16 --beam_size 3 --predict_file testing_data.json > pre.out &\n"
     ]
    }
   ],
   "source": [
    "predict(\"distil_data_rate05_drop01-t1-2_train_rate1/epoch-4/\")"
   ]
  },
  {
   "cell_type": "code",
   "execution_count": 72,
   "metadata": {
    "scrolled": true
   },
   "outputs": [
    {
     "name": "stdout",
     "output_type": "stream",
     "text": [
      "CUDA_VISIBLE_DEVICES=1 nohup python3 SQG_prediction.py --model_type bert --model_name_or_path  distil_rate05_drop03_train_rate1_drop01/epoch-4// --do_lower_case  --max_seq_length 512 --doc_stride 450  --max_query_length 42 --max_answer_length 16 --beam_size 3 --predict_file testing_data.json > pre.out &\n"
     ]
    }
   ],
   "source": [
    "predict(\"distil_rate05_drop03_train_rate1_drop01/epoch-4/\")"
   ]
  },
  {
   "cell_type": "code",
   "execution_count": 83,
   "metadata": {
    "scrolled": true
   },
   "outputs": [
    {
     "name": "stdout",
     "output_type": "stream",
     "text": [
      "CUDA_VISIBLE_DEVICES=1 nohup python3 SQG_prediction.py --model_type bert --model_name_or_path  QG_model_six_all_distil_rate1_drop03_train/epoch-4// --do_lower_case  --max_seq_length 512 --doc_stride 450  --max_query_length 42 --max_answer_length 16 --beam_size 3 --predict_file testing_data.json > pre.out &\n"
     ]
    }
   ],
   "source": [
    "predict(\"QG_model_six_all_distil_rate1_drop03_train/epoch-4/\")"
   ]
  },
  {
   "cell_type": "code",
   "execution_count": 76,
   "metadata": {
    "scrolled": true
   },
   "outputs": [
    {
     "name": "stdout",
     "output_type": "stream",
     "text": [
      "CUDA_VISIBLE_DEVICES=1 nohup python3 SQG_prediction.py --model_type bert --model_name_or_path  train_data_rate1-t2/epoch-1// --do_lower_case  --max_seq_length 512 --doc_stride 450  --max_query_length 42 --max_answer_length 16 --beam_size 3 --predict_file testing_data.json > pre.out &\n"
     ]
    }
   ],
   "source": [
    "predict(\"train_data_rate1-t2/epoch-1/\")"
   ]
  },
  {
   "cell_type": "markdown",
   "metadata": {},
   "source": [
    "# score"
   ]
  },
  {
   "cell_type": "code",
   "execution_count": 47,
   "metadata": {},
   "outputs": [],
   "source": [
    "def eval_cmd(dir_name):\n",
    "  print(\"nohup python2.7  eval_on_unilm_tokenized_ref.py --src_file ../BERT_QG_DRCD/testing_data_q_tok.txt --tgt_file ../BERT_QG_DRCD/testing_data_q_tok.txt --out_file {0}/test_beam_size_3.txt --out_folder {0}/ &\".format(dir_name))"
   ]
  },
  {
   "cell_type": "code",
   "execution_count": 15,
   "metadata": {
    "scrolled": true
   },
   "outputs": [
    {
     "name": "stdout",
     "output_type": "stream",
     "text": [
      "nohup python2.7  eval_on_unilm_tokenized_ref.py --src_file ../BERT_QG_DRCD/testing_data_q_tok.txt --tgt_file ../BERT_QG_DRCD/testing_data_q_tok.txt --out_file ../final/distilbert_DCRD/epoch-4/test_beam_size_3.txt --out_folder ../final/distilbert_DCRD/epoch-4/ &\n"
     ]
    }
   ],
   "source": [
    "eval_cmd(\"../final/distilbert_DCRD/epoch-4/\")"
   ]
  },
  {
   "cell_type": "code",
   "execution_count": 55,
   "metadata": {},
   "outputs": [
    {
     "name": "stdout",
     "output_type": "stream",
     "text": [
      "nohup python2.7  eval_on_unilm_tokenized_ref.py --src_file ../BERT_QG_DRCD/testing_data_q_tok.txt --tgt_file ../BERT_QG_DRCD/testing_data_q_tok.txt --out_file ../final/distilbert_DCRD2/epoch-4//test_beam_size_3.txt --out_folder ../final/distilbert_DCRD2/epoch-4// &\n"
     ]
    }
   ],
   "source": [
    "eval_cmd(\"../final/distilbert_DCRD2/epoch-4/\")"
   ]
  },
  {
   "cell_type": "code",
   "execution_count": 43,
   "metadata": {
    "scrolled": false
   },
   "outputs": [
    {
     "name": "stdout",
     "output_type": "stream",
     "text": [
      "nohup python2.7  eval_on_unilm_tokenized_ref.py --src_file ../BERT_QG_DRCD/testing_data_q_tok.txt --tgt_file ../BERT_QG_DRCD/testing_data_q_tok.txt --out_file ../final/distilbert_DCRD2/epoch-4/test_beam_size_3.txt --out_folder ../final/distilbert_DCRD2/epoch-4/ &\n"
     ]
    }
   ],
   "source": [
    "eval_cmd(\"../final/distilbert_DCRD2/epoch-4/\")"
   ]
  },
  {
   "cell_type": "code",
   "execution_count": 16,
   "metadata": {
    "scrolled": true
   },
   "outputs": [
    {
     "name": "stdout",
     "output_type": "stream",
     "text": [
      "nohup python2.7  eval_on_unilm_tokenized_ref.py --src_file ../BERT_QG_DRCD/testing_data_q_tok.txt --tgt_file ../BERT_QG_DRCD/testing_data_q_tok.txt --out_file ../final/distil_data_rate05-t1/epoch-4/test_beam_size_3.txt --out_folder ../final/distil_data_rate05-t1/epoch-4/ &\n"
     ]
    }
   ],
   "source": [
    "eval_cmd(\"../final/distil_data_rate05-t1/epoch-4/\")"
   ]
  },
  {
   "cell_type": "code",
   "execution_count": 17,
   "metadata": {},
   "outputs": [
    {
     "name": "stdout",
     "output_type": "stream",
     "text": [
      "nohup python2.7  eval_on_unilm_tokenized_ref.py --src_file ../BERT_QG_DRCD/testing_data_q_tok.txt --tgt_file ../BERT_QG_DRCD/testing_data_q_tok.txt --out_file ../final/train_data_rate05-t2/epoch-4/test_beam_size_3.txt --out_folder ../final/train_data_rate05-t2/epoch-4/ &\n"
     ]
    }
   ],
   "source": [
    "eval_cmd(\"../final/train_data_rate05-t2/epoch-4/\")"
   ]
  },
  {
   "cell_type": "code",
   "execution_count": 27,
   "metadata": {},
   "outputs": [
    {
     "name": "stdout",
     "output_type": "stream",
     "text": [
      "nohup python2.7  eval_on_unilm_tokenized_ref.py --src_file ../BERT_QG_DRCD/testing_data_q_tok.txt --tgt_file ../BERT_QG_DRCD/testing_data_q_tok.txt --out_file ../final/distil_data_rate1-t3/epoch-4/test_beam_size_3.txt --out_folder ../final/distil_data_rate1-t3/epoch-4/ &\n"
     ]
    }
   ],
   "source": [
    "eval_cmd(\"../final/distil_data_rate1-t3/epoch-4/\")"
   ]
  },
  {
   "cell_type": "code",
   "execution_count": 48,
   "metadata": {},
   "outputs": [
    {
     "name": "stdout",
     "output_type": "stream",
     "text": [
      "nohup python2.7  eval_on_unilm_tokenized_ref.py --src_file ../BERT_QG_DRCD/testing_data_q_tok.txt --tgt_file ../BERT_QG_DRCD/testing_data_q_tok.txt --out_file ../final/train_data_rate1-t3-2/epoch-4//test_beam_size_3.txt --out_folder ../final/train_data_rate1-t3-2/epoch-4// &\n"
     ]
    }
   ],
   "source": [
    "eval_cmd(\"../final/train_data_rate1-t3-2/epoch-4/\")"
   ]
  },
  {
   "cell_type": "code",
   "execution_count": 50,
   "metadata": {},
   "outputs": [
    {
     "name": "stdout",
     "output_type": "stream",
     "text": [
      "nohup python2.7  eval_on_unilm_tokenized_ref.py --src_file ../BERT_QG_DRCD/testing_data_q_tok.txt --tgt_file ../BERT_QG_DRCD/testing_data_q_tok.txt --out_file ../final/Six_drop03_train/epoch-4//test_beam_size_3.txt --out_folder ../final/Six_drop03_train/epoch-4// &\n"
     ]
    }
   ],
   "source": [
    "eval_cmd(\"../final/Six_drop03_train/epoch-4/\")"
   ]
  },
  {
   "cell_type": "code",
   "execution_count": 51,
   "metadata": {
    "scrolled": false
   },
   "outputs": [
    {
     "name": "stdout",
     "output_type": "stream",
     "text": [
      "nohup python2.7  eval_on_unilm_tokenized_ref.py --src_file ../BERT_QG_DRCD/testing_data_q_tok.txt --tgt_file ../BERT_QG_DRCD/testing_data_q_tok.txt --out_file ../final/Six_drop03_train2/epoch-4//test_beam_size_3.txt --out_folder ../final/Six_drop03_train2/epoch-4// &\n"
     ]
    }
   ],
   "source": [
    "eval_cmd(\"../final/Six_drop03_train2/epoch-4/\")"
   ]
  },
  {
   "cell_type": "code",
   "execution_count": 69,
   "metadata": {
    "scrolled": false
   },
   "outputs": [
    {
     "name": "stdout",
     "output_type": "stream",
     "text": [
      "nohup python2.7  eval_on_unilm_tokenized_ref.py --src_file ../BERT_QG_DRCD/testing_data_q_tok.txt --tgt_file ../BERT_QG_DRCD/testing_data_q_tok.txt --out_file ../final/Six_drop03_train3/epoch-4//test_beam_size_3.txt --out_folder ../final/Six_drop03_train3/epoch-4// &\n"
     ]
    }
   ],
   "source": [
    "eval_cmd(\"../final/Six_drop03_train3/epoch-4/\")"
   ]
  },
  {
   "cell_type": "code",
   "execution_count": 57,
   "metadata": {},
   "outputs": [
    {
     "name": "stdout",
     "output_type": "stream",
     "text": [
      "nohup python2.7  eval_on_unilm_tokenized_ref.py --src_file ../BERT_QG_DRCD/testing_data_q_tok.txt --tgt_file ../BERT_QG_DRCD/testing_data_q_tok.txt --out_file ../final/train_data_rate1_drop03-t2-2/epoch-4//test_beam_size_3.txt --out_folder ../final/train_data_rate1_drop03-t2-2/epoch-4// &\n"
     ]
    }
   ],
   "source": [
    "eval_cmd(\"../final/train_data_rate1_drop03-t2-2/epoch-4/\")"
   ]
  },
  {
   "cell_type": "code",
   "execution_count": 61,
   "metadata": {},
   "outputs": [
    {
     "name": "stdout",
     "output_type": "stream",
     "text": [
      "nohup python2.7  eval_on_unilm_tokenized_ref.py --src_file ../BERT_QG_DRCD/testing_data_q_tok.txt --tgt_file ../BERT_QG_DRCD/testing_data_q_tok.txt --out_file ../final/train_data_rate1-t2/epoch-4//test_beam_size_3.txt --out_folder ../final/train_data_rate1-t2/epoch-4// &\n"
     ]
    }
   ],
   "source": [
    "eval_cmd(\"../final/train_data_rate1-t2/epoch-4/\")"
   ]
  },
  {
   "cell_type": "code",
   "execution_count": 65,
   "metadata": {},
   "outputs": [
    {
     "name": "stdout",
     "output_type": "stream",
     "text": [
      "nohup python2.7  eval_on_unilm_tokenized_ref.py --src_file ../BERT_QG_DRCD/testing_data_q_tok.txt --tgt_file ../BERT_QG_DRCD/testing_data_q_tok.txt --out_file ../final/QG_model_six_all_distil/epoch-4//test_beam_size_3.txt --out_folder ../final/QG_model_six_all_distil/epoch-4// &\n"
     ]
    }
   ],
   "source": [
    "eval_cmd(\"../final/QG_model_six_all_distil/epoch-4/\")"
   ]
  },
  {
   "cell_type": "code",
   "execution_count": 64,
   "metadata": {},
   "outputs": [
    {
     "name": "stdout",
     "output_type": "stream",
     "text": [
      "nohup python2.7  eval_on_unilm_tokenized_ref.py --src_file ../BERT_QG_DRCD/testing_data_q_tok.txt --tgt_file ../BERT_QG_DRCD/testing_data_q_tok.txt --out_file ../final/QG_model_six_all_distil_train/epoch-4//test_beam_size_3.txt --out_folder ../final/QG_model_six_all_distil_train/epoch-4// &\n"
     ]
    }
   ],
   "source": [
    "eval_cmd(\"../final/QG_model_six_all_distil_train/epoch-4/\")"
   ]
  },
  {
   "cell_type": "code",
   "execution_count": 67,
   "metadata": {},
   "outputs": [
    {
     "name": "stdout",
     "output_type": "stream",
     "text": [
      "nohup python2.7  eval_on_unilm_tokenized_ref.py --src_file ../BERT_QG_DRCD/testing_data_q_tok.txt --tgt_file ../BERT_QG_DRCD/testing_data_q_tok.txt --out_file ../final/distil_data_rate05_drop01-t1-2/epoch-4//test_beam_size_3.txt --out_folder ../final/distil_data_rate05_drop01-t1-2/epoch-4// &\n"
     ]
    }
   ],
   "source": [
    "eval_cmd(\"../final/distil_data_rate05_drop01-t1-2/epoch-4/\")"
   ]
  },
  {
   "cell_type": "code",
   "execution_count": 71,
   "metadata": {
    "scrolled": true
   },
   "outputs": [
    {
     "name": "stdout",
     "output_type": "stream",
     "text": [
      "nohup python2.7  eval_on_unilm_tokenized_ref.py --src_file ../BERT_QG_DRCD/testing_data_q_tok.txt --tgt_file ../BERT_QG_DRCD/testing_data_q_tok.txt --out_file ../final/distil_data_rate05_drop01-t1-2_train_rate1/epoch-4//test_beam_size_3.txt --out_folder ../final/distil_data_rate05_drop01-t1-2_train_rate1/epoch-4// &\n"
     ]
    }
   ],
   "source": [
    "eval_cmd(\"../final/distil_data_rate05_drop01-t1-2_train_rate1/epoch-4/\")"
   ]
  },
  {
   "cell_type": "code",
   "execution_count": 73,
   "metadata": {
    "scrolled": true
   },
   "outputs": [
    {
     "name": "stdout",
     "output_type": "stream",
     "text": [
      "nohup python2.7  eval_on_unilm_tokenized_ref.py --src_file ../BERT_QG_DRCD/testing_data_q_tok.txt --tgt_file ../BERT_QG_DRCD/testing_data_q_tok.txt --out_file ../final/distil_rate05_drop03_train_rate1_drop01/epoch-4//test_beam_size_3.txt --out_folder ../final/distil_rate05_drop03_train_rate1_drop01/epoch-4// &\n"
     ]
    }
   ],
   "source": [
    "eval_cmd(\"../final/distil_rate05_drop03_train_rate1_drop01/epoch-4/\")"
   ]
  },
  {
   "cell_type": "code",
   "execution_count": 79,
   "metadata": {},
   "outputs": [
    {
     "name": "stdout",
     "output_type": "stream",
     "text": [
      "nohup python2.7  eval_on_unilm_tokenized_ref.py --src_file ../BERT_QG_DRCD/testing_data_q_tok.txt --tgt_file ../BERT_QG_DRCD/testing_data_q_tok.txt --out_file ../final/train_data_rate1-t2/epoch-3//test_beam_size_3.txt --out_folder ../final/train_data_rate1-t2/epoch-3// &\n"
     ]
    }
   ],
   "source": [
    "eval_cmd(\"../final/train_data_rate1-t2/epoch-3/\")"
   ]
  },
  {
   "cell_type": "code",
   "execution_count": 81,
   "metadata": {},
   "outputs": [
    {
     "name": "stdout",
     "output_type": "stream",
     "text": [
      "nohup python2.7  eval_on_unilm_tokenized_ref.py --src_file ../BERT_QG_DRCD/testing_data_q_tok.txt --tgt_file ../BERT_QG_DRCD/testing_data_q_tok.txt --out_file ../final/QG_model_six_all_distil_rate1_drop03/epoch-4//test_beam_size_3.txt --out_folder ../final/QG_model_six_all_distil_rate1_drop03/epoch-4// &\n"
     ]
    }
   ],
   "source": [
    "eval_cmd(\"../final/QG_model_six_all_distil_rate1_drop03/epoch-4/\")"
   ]
  },
  {
   "cell_type": "code",
   "execution_count": 82,
   "metadata": {},
   "outputs": [
    {
     "name": "stdout",
     "output_type": "stream",
     "text": [
      "nohup python2.7  eval_on_unilm_tokenized_ref.py --src_file ../BERT_QG_DRCD/testing_data_q_tok.txt --tgt_file ../BERT_QG_DRCD/testing_data_q_tok.txt --out_file ../final/QG_model_six_all_distil_rate1_drop03_train/epoch-4//test_beam_size_3.txt --out_folder ../final/QG_model_six_all_distil_rate1_drop03_train/epoch-4// &\n"
     ]
    }
   ],
   "source": [
    "eval_cmd(\"../final/QG_model_six_all_distil_rate1_drop03_train/epoch-4/\")"
   ]
  },
  {
   "cell_type": "code",
   "execution_count": null,
   "metadata": {},
   "outputs": [],
   "source": []
  }
 ],
 "metadata": {
  "kernelspec": {
   "display_name": "Python 3",
   "language": "python",
   "name": "python3"
  },
  "language_info": {
   "codemirror_mode": {
    "name": "ipython",
    "version": 3
   },
   "file_extension": ".py",
   "mimetype": "text/x-python",
   "name": "python",
   "nbconvert_exporter": "python",
   "pygments_lexer": "ipython3",
   "version": "3.6.9"
  }
 },
 "nbformat": 4,
 "nbformat_minor": 2
}
